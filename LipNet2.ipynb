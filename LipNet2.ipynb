{
 "cells": [
  {
   "cell_type": "markdown",
   "id": "a3573a47-3689-4668-b62f-5c8451b2b4e9",
   "metadata": {
    "tags": []
   },
   "source": [
    "## 0. Install and Import Dependencies"
   ]
  },
  {
   "cell_type": "code",
   "execution_count": 7,
   "id": "b24af50c-20b8-409d-ad78-30a933fdd669",
   "metadata": {
    "is_executing": true,
    "tags": []
   },
   "outputs": [],
   "source": [
    "import os\n",
    "import cv2\n",
    "import tensorflow as tf\n",
    "import numpy as np\n",
    "from typing import List\n",
    "from matplotlib import pyplot as plt\n",
    "import imageio"
   ]
  },
  {
   "cell_type": "code",
   "execution_count": 8,
   "id": "1e3db0b0-e559-4ad6-91fd-e7414b7d75e6",
   "metadata": {},
   "outputs": [
    {
     "data": {
      "text/plain": [
       "[]"
      ]
     },
     "execution_count": 8,
     "metadata": {},
     "output_type": "execute_result"
    }
   ],
   "source": [
    "tf.config.list_physical_devices('GPU')"
   ]
  },
  {
   "cell_type": "code",
   "execution_count": 9,
   "id": "378d045a-3003-4f93-b7d2-a25a97774a68",
   "metadata": {
    "tags": []
   },
   "outputs": [],
   "source": [
    "# Set memory growth for GPUs\n",
    "gpus = tf.config.experimental.list_physical_devices('GPU')\n",
    "for gpu in gpus:\n",
    "    tf.config.experimental.set_memory_growth(gpu, True)\n",
    "\n",
    "# Import sparse_softmax_cross_entropy from tf.compat.v1.losses\n",
    "from tensorflow.compat.v1.losses import sparse_softmax_cross_entropy\n",
    "\n",
    "# Use sparse_softmax_cross_entropy in your code\n",
    "# For example:\n",
    "labels = tf.constant([0, 1, 2])\n",
    "predictions = tf.constant([[0.9, 0.05, 0.05], [0.5, 0.4, 0.1], [0.05, 0.9, 0.05]])\n",
    "loss = sparse_softmax_cross_entropy(labels, predictions)"
   ]
  },
  {
   "cell_type": "markdown",
   "id": "7a19e88e-c7b9-45c1-ae1e-f2109329c71b",
   "metadata": {
    "tags": []
   },
   "source": [
    "# 1. Build Data Loading Functions"
   ]
  },
  {
   "cell_type": "code",
   "execution_count": 10,
   "id": "8fb99c90-e05a-437f-839d-6e772f8c1dd5",
   "metadata": {
    "tags": []
   },
   "outputs": [],
   "source": [
    "import gdown"
   ]
  },
  {
   "cell_type": "code",
   "execution_count": 11,
   "id": "c019e4c6-2af3-4160-99ea-5c8cb009f1a7",
   "metadata": {
    "tags": []
   },
   "outputs": [
    {
     "name": "stderr",
     "output_type": "stream",
     "text": [
      "Downloading...\n",
      "From (uriginal): https://drive.google.com/uc?id=1YlvpDLix3S-U8fd-gqRwPcWXAXm8JwjL\n",
      "From (redirected): https://drive.google.com/uc?id=1YlvpDLix3S-U8fd-gqRwPcWXAXm8JwjL&confirm=t&uuid=c65f5e05-a8cd-4737-b585-a9734f637d7c\n",
      "To: C:\\Users\\dell\\Desktop\\ann\\data.zip\n",
      "100%|██████████| 423M/423M [01:19<00:00, 5.34MB/s] \n"
     ]
    },
    {
     "data": {
      "text/plain": [
       "['data/',\n",
       " 'data/alignments/',\n",
       " 'data/alignments/s1/',\n",
       " 'data/alignments/s1/bbaf2n.align',\n",
       " 'data/alignments/s1/bbaf3s.align',\n",
       " 'data/alignments/s1/bbaf4p.align',\n",
       " 'data/alignments/s1/bbaf5a.align',\n",
       " 'data/alignments/s1/bbal6n.align',\n",
       " 'data/alignments/s1/bbal7s.align',\n",
       " 'data/alignments/s1/bbal8p.align',\n",
       " 'data/alignments/s1/bbal9a.align',\n",
       " 'data/alignments/s1/bbas1s.align',\n",
       " 'data/alignments/s1/bbas2p.align',\n",
       " 'data/alignments/s1/bbas3a.align',\n",
       " 'data/alignments/s1/bbaszn.align',\n",
       " 'data/alignments/s1/bbaz4n.align',\n",
       " 'data/alignments/s1/bbaz5s.align',\n",
       " 'data/alignments/s1/bbaz6p.align',\n",
       " 'data/alignments/s1/bbaz7a.align',\n",
       " 'data/alignments/s1/bbbf6n.align',\n",
       " 'data/alignments/s1/bbbf7s.align',\n",
       " 'data/alignments/s1/bbbf8p.align',\n",
       " 'data/alignments/s1/bbbf9a.align',\n",
       " 'data/alignments/s1/bbbm1s.align',\n",
       " 'data/alignments/s1/bbbm2p.align',\n",
       " 'data/alignments/s1/bbbm3a.align',\n",
       " 'data/alignments/s1/bbbmzn.align',\n",
       " 'data/alignments/s1/bbbs4n.align',\n",
       " 'data/alignments/s1/bbbs5s.align',\n",
       " 'data/alignments/s1/bbbs6p.align',\n",
       " 'data/alignments/s1/bbbs7a.align',\n",
       " 'data/alignments/s1/bbbz8n.align',\n",
       " 'data/alignments/s1/bbbz9s.align',\n",
       " 'data/alignments/s1/bbie8n.align',\n",
       " 'data/alignments/s1/bbie9s.align',\n",
       " 'data/alignments/s1/bbif1a.align',\n",
       " 'data/alignments/s1/bbifzp.align',\n",
       " 'data/alignments/s1/bbil2n.align',\n",
       " 'data/alignments/s1/bbil3s.align',\n",
       " 'data/alignments/s1/bbil4p.align',\n",
       " 'data/alignments/s1/bbil5a.align',\n",
       " 'data/alignments/s1/bbir6n.align',\n",
       " 'data/alignments/s1/bbir7s.align',\n",
       " 'data/alignments/s1/bbir8p.align',\n",
       " 'data/alignments/s1/bbir9a.align',\n",
       " 'data/alignments/s1/bbiz1s.align',\n",
       " 'data/alignments/s1/bbiz2p.align',\n",
       " 'data/alignments/s1/bbiz3a.align',\n",
       " 'data/alignments/s1/bbizzn.align',\n",
       " 'data/alignments/s1/bbwg1s.align',\n",
       " 'data/alignments/s1/bbwg2p.align',\n",
       " 'data/alignments/s1/bbwg3a.align',\n",
       " 'data/alignments/s1/bbwgzn.align',\n",
       " 'data/alignments/s1/bbwm4n.align',\n",
       " 'data/alignments/s1/bbwm5s.align',\n",
       " 'data/alignments/s1/bbwm6p.align',\n",
       " 'data/alignments/s1/bbwm7a.align',\n",
       " 'data/alignments/s1/bbws8n.align',\n",
       " 'data/alignments/s1/bbws9s.align',\n",
       " 'data/alignments/s1/bbwt1a.align',\n",
       " 'data/alignments/s1/bbwtzp.align',\n",
       " 'data/alignments/s1/bgaa6n.align',\n",
       " 'data/alignments/s1/bgaa7s.align',\n",
       " 'data/alignments/s1/bgaa8p.align',\n",
       " 'data/alignments/s1/bgaa9a.align',\n",
       " 'data/alignments/s1/bgah1s.align',\n",
       " 'data/alignments/s1/bgah2p.align',\n",
       " 'data/alignments/s1/bgah3a.align',\n",
       " 'data/alignments/s1/bgahzn.align',\n",
       " 'data/alignments/s1/bgan4n.align',\n",
       " 'data/alignments/s1/bgan5s.align',\n",
       " 'data/alignments/s1/bgan6p.align',\n",
       " 'data/alignments/s1/bgan7a.align',\n",
       " 'data/alignments/s1/bgat8n.align',\n",
       " 'data/alignments/s1/bgat9s.align',\n",
       " 'data/alignments/s1/bgau1a.align',\n",
       " 'data/alignments/s1/bgauzp.align',\n",
       " 'data/alignments/s1/bgbb1s.align',\n",
       " 'data/alignments/s1/bgbb2p.align',\n",
       " 'data/alignments/s1/bgbb3a.align',\n",
       " 'data/alignments/s1/bgbbzn.align',\n",
       " 'data/alignments/s1/bgbh4n.align',\n",
       " 'data/alignments/s1/bgbh5s.align',\n",
       " 'data/alignments/s1/bgbh6p.align',\n",
       " 'data/alignments/s1/bgbh7a.align',\n",
       " 'data/alignments/s1/bgbn8n.align',\n",
       " 'data/alignments/s1/bgbn9s.align',\n",
       " 'data/alignments/s1/bgbo1a.align',\n",
       " 'data/alignments/s1/bgbozp.align',\n",
       " 'data/alignments/s1/bgbu2n.align',\n",
       " 'data/alignments/s1/bgbu3s.align',\n",
       " 'data/alignments/s1/bgbu4p.align',\n",
       " 'data/alignments/s1/bgbu5a.align',\n",
       " 'data/alignments/s1/bgia2n.align',\n",
       " 'data/alignments/s1/bgia3s.align',\n",
       " 'data/alignments/s1/bgia4p.align',\n",
       " 'data/alignments/s1/bgia5a.align',\n",
       " 'data/alignments/s1/bgig6n.align',\n",
       " 'data/alignments/s1/bgig7s.align',\n",
       " 'data/alignments/s1/bgig8p.align',\n",
       " 'data/alignments/s1/bgig9a.align',\n",
       " 'data/alignments/s1/bgin1s.align',\n",
       " 'data/alignments/s1/bgin2p.align',\n",
       " 'data/alignments/s1/bgin3a.align',\n",
       " 'data/alignments/s1/bginzn.align',\n",
       " 'data/alignments/s1/bgit4n.align',\n",
       " 'data/alignments/s1/bgit5s.align',\n",
       " 'data/alignments/s1/bgit6p.align',\n",
       " 'data/alignments/s1/bgit7a.align',\n",
       " 'data/alignments/s1/bgwb4n.align',\n",
       " 'data/alignments/s1/bgwb5s.align',\n",
       " 'data/alignments/s1/bgwb6p.align',\n",
       " 'data/alignments/s1/bgwb7a.align',\n",
       " 'data/alignments/s1/bgwh8n.align',\n",
       " 'data/alignments/s1/bgwh9s.align',\n",
       " 'data/alignments/s1/bgwi1a.align',\n",
       " 'data/alignments/s1/bgwizp.align',\n",
       " 'data/alignments/s1/bgwo2n.align',\n",
       " 'data/alignments/s1/bgwo3s.align',\n",
       " 'data/alignments/s1/bgwo4p.align',\n",
       " 'data/alignments/s1/bgwo5a.align',\n",
       " 'data/alignments/s1/bgwu6n.align',\n",
       " 'data/alignments/s1/bgwu7s.align',\n",
       " 'data/alignments/s1/bgwu8p.align',\n",
       " 'data/alignments/s1/bgwu9a.align',\n",
       " 'data/alignments/s1/braf8n.align',\n",
       " 'data/alignments/s1/braf9s.align',\n",
       " 'data/alignments/s1/brag1a.align',\n",
       " 'data/alignments/s1/bragzp.align',\n",
       " 'data/alignments/s1/bram2n.align',\n",
       " 'data/alignments/s1/bram3s.align',\n",
       " 'data/alignments/s1/bram4p.align',\n",
       " 'data/alignments/s1/bram5a.align',\n",
       " 'data/alignments/s1/bras6n.align',\n",
       " 'data/alignments/s1/bras7s.align',\n",
       " 'data/alignments/s1/bras8p.align',\n",
       " 'data/alignments/s1/bras9a.align',\n",
       " 'data/alignments/s1/brba1a.align',\n",
       " 'data/alignments/s1/brbazp.align',\n",
       " 'data/alignments/s1/brbg2n.align',\n",
       " 'data/alignments/s1/brbg3s.align',\n",
       " 'data/alignments/s1/brbg4p.align',\n",
       " 'data/alignments/s1/brbg5a.align',\n",
       " 'data/alignments/s1/brbm6n.align',\n",
       " 'data/alignments/s1/brbm7s.align',\n",
       " 'data/alignments/s1/brbm8p.align',\n",
       " 'data/alignments/s1/brbm9a.align',\n",
       " 'data/alignments/s1/brbt1s.align',\n",
       " 'data/alignments/s1/brbt2p.align',\n",
       " 'data/alignments/s1/brbt3a.align',\n",
       " 'data/alignments/s1/brbtzn.align',\n",
       " 'data/alignments/s1/brif4n.align',\n",
       " 'data/alignments/s1/brif5s.align',\n",
       " 'data/alignments/s1/brif6p.align',\n",
       " 'data/alignments/s1/brif7a.align',\n",
       " 'data/alignments/s1/bril8n.align',\n",
       " 'data/alignments/s1/bril9s.align',\n",
       " 'data/alignments/s1/brim1a.align',\n",
       " 'data/alignments/s1/brimzp.align',\n",
       " 'data/alignments/s1/bris2n.align',\n",
       " 'data/alignments/s1/bris3s.align',\n",
       " 'data/alignments/s1/bris4p.align',\n",
       " 'data/alignments/s1/bris5a.align',\n",
       " 'data/alignments/s1/briz6n.align',\n",
       " 'data/alignments/s1/briz7s.align',\n",
       " 'data/alignments/s1/briz8p.align',\n",
       " 'data/alignments/s1/briz9a.align',\n",
       " 'data/alignments/s1/brwa2n.align',\n",
       " 'data/alignments/s1/brwa3s.align',\n",
       " 'data/alignments/s1/brwa4p.align',\n",
       " 'data/alignments/s1/brwa5a.align',\n",
       " 'data/alignments/s1/brwg6n.align',\n",
       " 'data/alignments/s1/brwg7s.align',\n",
       " 'data/alignments/s1/brwg8p.align',\n",
       " 'data/alignments/s1/brwg9a.align',\n",
       " 'data/alignments/s1/brwn1s.align',\n",
       " 'data/alignments/s1/brwn2p.align',\n",
       " 'data/alignments/s1/brwn3a.align',\n",
       " 'data/alignments/s1/brwnzn.align',\n",
       " 'data/alignments/s1/brwt4n.align',\n",
       " 'data/alignments/s1/brwt5s.align',\n",
       " 'data/alignments/s1/brwt6p.align',\n",
       " 'data/alignments/s1/brwt7a.align',\n",
       " 'data/alignments/s1/bwaa1s.align',\n",
       " 'data/alignments/s1/bwaa2p.align',\n",
       " 'data/alignments/s1/bwaa3a.align',\n",
       " 'data/alignments/s1/bwaazn.align',\n",
       " 'data/alignments/s1/bwag4n.align',\n",
       " 'data/alignments/s1/bwag5s.align',\n",
       " 'data/alignments/s1/bwag6p.align',\n",
       " 'data/alignments/s1/bwag7a.align',\n",
       " 'data/alignments/s1/bwam8n.align',\n",
       " 'data/alignments/s1/bwam9s.align',\n",
       " 'data/alignments/s1/bwan1a.align',\n",
       " 'data/alignments/s1/bwanzp.align',\n",
       " 'data/alignments/s1/bwat2n.align',\n",
       " 'data/alignments/s1/bwat3s.align',\n",
       " 'data/alignments/s1/bwat4p.align',\n",
       " 'data/alignments/s1/bwat5a.align',\n",
       " 'data/alignments/s1/bwba4n.align',\n",
       " 'data/alignments/s1/bwba5s.align',\n",
       " 'data/alignments/s1/bwba6p.align',\n",
       " 'data/alignments/s1/bwba7a.align',\n",
       " 'data/alignments/s1/bwbg8n.align',\n",
       " 'data/alignments/s1/bwbg9s.align',\n",
       " 'data/alignments/s1/bwbh1a.align',\n",
       " 'data/alignments/s1/bwbhzp.align',\n",
       " 'data/alignments/s1/bwbn2n.align',\n",
       " 'data/alignments/s1/bwbn3s.align',\n",
       " 'data/alignments/s1/bwbn4p.align',\n",
       " 'data/alignments/s1/bwbn5a.align',\n",
       " 'data/alignments/s1/bwbt6n.align',\n",
       " 'data/alignments/s1/bwbt7s.align',\n",
       " 'data/alignments/s1/bwbt8p.align',\n",
       " 'data/alignments/s1/bwbt9a.align',\n",
       " 'data/alignments/s1/bwig1s.align',\n",
       " 'data/alignments/s1/bwig2p.align',\n",
       " 'data/alignments/s1/bwig3a.align',\n",
       " 'data/alignments/s1/bwigzn.align',\n",
       " 'data/alignments/s1/bwim4n.align',\n",
       " 'data/alignments/s1/bwim5s.align',\n",
       " 'data/alignments/s1/bwim6p.align',\n",
       " 'data/alignments/s1/bwim7a.align',\n",
       " 'data/alignments/s1/bwis8n.align',\n",
       " 'data/alignments/s1/bwis9s.align',\n",
       " 'data/alignments/s1/bwit1a.align',\n",
       " 'data/alignments/s1/bwitzp.align',\n",
       " 'data/alignments/s1/bwwa8n.align',\n",
       " 'data/alignments/s1/bwwa9s.align',\n",
       " 'data/alignments/s1/bwwb1a.align',\n",
       " 'data/alignments/s1/bwwbzp.align',\n",
       " 'data/alignments/s1/bwwh2n.align',\n",
       " 'data/alignments/s1/bwwh3s.align',\n",
       " 'data/alignments/s1/bwwh4p.align',\n",
       " 'data/alignments/s1/bwwh5a.align',\n",
       " 'data/alignments/s1/bwwn6n.align',\n",
       " 'data/alignments/s1/bwwn7s.align',\n",
       " 'data/alignments/s1/bwwn8p.align',\n",
       " 'data/alignments/s1/bwwn9a.align',\n",
       " 'data/alignments/s1/bwwu1s.align',\n",
       " 'data/alignments/s1/bwwu2p.align',\n",
       " 'data/alignments/s1/bwwu3a.align',\n",
       " 'data/alignments/s1/bwwuzn.align',\n",
       " 'data/alignments/s1/lbad6n.align',\n",
       " 'data/alignments/s1/lbad7s.align',\n",
       " 'data/alignments/s1/lbad8p.align',\n",
       " 'data/alignments/s1/lbad9a.align',\n",
       " 'data/alignments/s1/lbak1s.align',\n",
       " 'data/alignments/s1/lbak2p.align',\n",
       " 'data/alignments/s1/lbak3a.align',\n",
       " 'data/alignments/s1/lbakzn.align',\n",
       " 'data/alignments/s1/lbaq4n.align',\n",
       " 'data/alignments/s1/lbaq5s.align',\n",
       " 'data/alignments/s1/lbaq6p.align',\n",
       " 'data/alignments/s1/lbaq7a.align',\n",
       " 'data/alignments/s1/lbax8n.align',\n",
       " 'data/alignments/s1/lbax9s.align',\n",
       " 'data/alignments/s1/lbay1a.align',\n",
       " 'data/alignments/s1/lbayzp.align',\n",
       " 'data/alignments/s1/lbbe1s.align',\n",
       " 'data/alignments/s1/lbbe2p.align',\n",
       " 'data/alignments/s1/lbbe3a.align',\n",
       " 'data/alignments/s1/lbbezn.align',\n",
       " 'data/alignments/s1/lbbk4n.align',\n",
       " 'data/alignments/s1/lbbk5s.align',\n",
       " 'data/alignments/s1/lbbk6p.align',\n",
       " 'data/alignments/s1/lbbk7a.align',\n",
       " 'data/alignments/s1/lbbq8n.align',\n",
       " 'data/alignments/s1/lbbq9s.align',\n",
       " 'data/alignments/s1/lbbr1a.align',\n",
       " 'data/alignments/s1/lbbrzp.align',\n",
       " 'data/alignments/s1/lbby2n.align',\n",
       " 'data/alignments/s1/lbby3s.align',\n",
       " 'data/alignments/s1/lbby4p.align',\n",
       " 'data/alignments/s1/lbby5a.align',\n",
       " 'data/alignments/s1/lbid2n.align',\n",
       " 'data/alignments/s1/lbid3s.align',\n",
       " 'data/alignments/s1/lbid4p.align',\n",
       " 'data/alignments/s1/lbid5a.align',\n",
       " 'data/alignments/s1/lbij6n.align',\n",
       " 'data/alignments/s1/lbij7s.align',\n",
       " 'data/alignments/s1/lbij8p.align',\n",
       " 'data/alignments/s1/lbij9a.align',\n",
       " 'data/alignments/s1/lbiq1s.align',\n",
       " 'data/alignments/s1/lbiq2p.align',\n",
       " 'data/alignments/s1/lbiq3a.align',\n",
       " 'data/alignments/s1/lbiqzn.align',\n",
       " 'data/alignments/s1/lbix4n.align',\n",
       " 'data/alignments/s1/lbix5s.align',\n",
       " 'data/alignments/s1/lbix6p.align',\n",
       " 'data/alignments/s1/lbix7a.align',\n",
       " 'data/alignments/s1/lbwe4n.align',\n",
       " 'data/alignments/s1/lbwe5s.align',\n",
       " 'data/alignments/s1/lbwe6p.align',\n",
       " 'data/alignments/s1/lbwe7a.align',\n",
       " 'data/alignments/s1/lbwk8n.align',\n",
       " 'data/alignments/s1/lbwk9s.align',\n",
       " 'data/alignments/s1/lbwl1a.align',\n",
       " 'data/alignments/s1/lbwlzp.align',\n",
       " 'data/alignments/s1/lbwr2n.align',\n",
       " 'data/alignments/s1/lbwr3s.align',\n",
       " 'data/alignments/s1/lbwr4p.align',\n",
       " 'data/alignments/s1/lbwr5a.align',\n",
       " 'data/alignments/s1/lbwy6n.align',\n",
       " 'data/alignments/s1/lbwy7s.align',\n",
       " 'data/alignments/s1/lbwy8p.align',\n",
       " 'data/alignments/s1/lbwy9a.align',\n",
       " 'data/alignments/s1/lgaf4n.align',\n",
       " 'data/alignments/s1/lgaf5s.align',\n",
       " 'data/alignments/s1/lgaf6p.align',\n",
       " 'data/alignments/s1/lgaf7a.align',\n",
       " 'data/alignments/s1/lgal8n.align',\n",
       " 'data/alignments/s1/lgal9s.align',\n",
       " 'data/alignments/s1/lgam1a.align',\n",
       " 'data/alignments/s1/lgamzp.align',\n",
       " 'data/alignments/s1/lgas2n.align',\n",
       " 'data/alignments/s1/lgas3s.align',\n",
       " 'data/alignments/s1/lgas4p.align',\n",
       " 'data/alignments/s1/lgas5a.align',\n",
       " 'data/alignments/s1/lgaz6n.align',\n",
       " 'data/alignments/s1/lgaz7s.align',\n",
       " 'data/alignments/s1/lgaz8p.align',\n",
       " 'data/alignments/s1/lgaz9a.align',\n",
       " 'data/alignments/s1/lgbf8n.align',\n",
       " 'data/alignments/s1/lgbf9s.align',\n",
       " 'data/alignments/s1/lgbg1a.align',\n",
       " 'data/alignments/s1/lgbgzp.align',\n",
       " 'data/alignments/s1/lgbm2n.align',\n",
       " 'data/alignments/s1/lgbm3s.align',\n",
       " 'data/alignments/s1/lgbm4p.align',\n",
       " 'data/alignments/s1/lgbm5a.align',\n",
       " 'data/alignments/s1/lgbs6n.align',\n",
       " 'data/alignments/s1/lgbs7s.align',\n",
       " 'data/alignments/s1/lgbs8p.align',\n",
       " 'data/alignments/s1/lgbs9a.align',\n",
       " 'data/alignments/s1/lgif1s.align',\n",
       " 'data/alignments/s1/lgif2p.align',\n",
       " 'data/alignments/s1/lgif3a.align',\n",
       " 'data/alignments/s1/lgifzn.align',\n",
       " 'data/alignments/s1/lgil4n.align',\n",
       " 'data/alignments/s1/lgil5s.align',\n",
       " 'data/alignments/s1/lgil6p.align',\n",
       " 'data/alignments/s1/lgil7a.align',\n",
       " 'data/alignments/s1/lgir8n.align',\n",
       " 'data/alignments/s1/lgir9s.align',\n",
       " 'data/alignments/s1/lgis1a.align',\n",
       " 'data/alignments/s1/lgiszp.align',\n",
       " 'data/alignments/s1/lgiz2n.align',\n",
       " 'data/alignments/s1/lgiz3s.align',\n",
       " 'data/alignments/s1/lgiz4p.align',\n",
       " 'data/alignments/s1/lgiz5a.align',\n",
       " 'data/alignments/s1/lgwa1a.align',\n",
       " 'data/alignments/s1/lgwazp.align',\n",
       " 'data/alignments/s1/lgwg2n.align',\n",
       " 'data/alignments/s1/lgwg3s.align',\n",
       " 'data/alignments/s1/lgwg4p.align',\n",
       " 'data/alignments/s1/lgwg5a.align',\n",
       " 'data/alignments/s1/lgwm6n.align',\n",
       " 'data/alignments/s1/lgwm7s.align',\n",
       " 'data/alignments/s1/lgwm8p.align',\n",
       " 'data/alignments/s1/lgwm9a.align',\n",
       " 'data/alignments/s1/lgwt1s.align',\n",
       " 'data/alignments/s1/lgwt2p.align',\n",
       " 'data/alignments/s1/lgwt3a.align',\n",
       " 'data/alignments/s1/lgwtzn.align',\n",
       " 'data/alignments/s1/lrae2n.align',\n",
       " 'data/alignments/s1/lrae3s.align',\n",
       " 'data/alignments/s1/lrae4p.align',\n",
       " 'data/alignments/s1/lrae5a.align',\n",
       " 'data/alignments/s1/lrak6n.align',\n",
       " 'data/alignments/s1/lrak7s.align',\n",
       " 'data/alignments/s1/lrak8p.align',\n",
       " 'data/alignments/s1/lrak9a.align',\n",
       " 'data/alignments/s1/lrar1s.align',\n",
       " 'data/alignments/s1/lrar2p.align',\n",
       " 'data/alignments/s1/lrar3a.align',\n",
       " 'data/alignments/s1/lrarzn.align',\n",
       " 'data/alignments/s1/lray4n.align',\n",
       " 'data/alignments/s1/lray5s.align',\n",
       " 'data/alignments/s1/lray6p.align',\n",
       " 'data/alignments/s1/lray7a.align',\n",
       " 'data/alignments/s1/lrbe6n.align',\n",
       " 'data/alignments/s1/lrbe7s.align',\n",
       " 'data/alignments/s1/lrbe8p.align',\n",
       " 'data/alignments/s1/lrbe9a.align',\n",
       " 'data/alignments/s1/lrbl1s.align',\n",
       " 'data/alignments/s1/lrbl2p.align',\n",
       " 'data/alignments/s1/lrbl3a.align',\n",
       " 'data/alignments/s1/lrblzn.align',\n",
       " 'data/alignments/s1/lrbr4n.align',\n",
       " 'data/alignments/s1/lrbr5s.align',\n",
       " 'data/alignments/s1/lrbr6p.align',\n",
       " 'data/alignments/s1/lrbr7a.align',\n",
       " 'data/alignments/s1/lrby8n.align',\n",
       " 'data/alignments/s1/lrby9s.align',\n",
       " 'data/alignments/s1/lrbz1a.align',\n",
       " 'data/alignments/s1/lrbzzp.align',\n",
       " 'data/alignments/s1/lrid8n.align',\n",
       " 'data/alignments/s1/lrid9s.align',\n",
       " 'data/alignments/s1/lrie1a.align',\n",
       " 'data/alignments/s1/lriezp.align',\n",
       " 'data/alignments/s1/lrik2n.align',\n",
       " 'data/alignments/s1/lrik3s.align',\n",
       " 'data/alignments/s1/lrik4p.align',\n",
       " 'data/alignments/s1/lrik5a.align',\n",
       " 'data/alignments/s1/lriq6n.align',\n",
       " 'data/alignments/s1/lriq7s.align',\n",
       " 'data/alignments/s1/lriq8p.align',\n",
       " 'data/alignments/s1/lriq9a.align',\n",
       " 'data/alignments/s1/lriy1s.align',\n",
       " 'data/alignments/s1/lriy2p.align',\n",
       " 'data/alignments/s1/lriy3a.align',\n",
       " 'data/alignments/s1/lriyzn.align',\n",
       " 'data/alignments/s1/lrwf1s.align',\n",
       " 'data/alignments/s1/lrwf2p.align',\n",
       " 'data/alignments/s1/lrwf3a.align',\n",
       " 'data/alignments/s1/lrwfzn.align',\n",
       " 'data/alignments/s1/lrwl4n.align',\n",
       " 'data/alignments/s1/lrwl5s.align',\n",
       " 'data/alignments/s1/lrwl6p.align',\n",
       " 'data/alignments/s1/lrwl7a.align',\n",
       " 'data/alignments/s1/lrwr8n.align',\n",
       " 'data/alignments/s1/lrwr9s.align',\n",
       " 'data/alignments/s1/lrws1a.align',\n",
       " 'data/alignments/s1/lrwszp.align',\n",
       " 'data/alignments/s1/lrwz2n.align',\n",
       " 'data/alignments/s1/lrwz3s.align',\n",
       " 'data/alignments/s1/lrwz4p.align',\n",
       " 'data/alignments/s1/lrwz5a.align',\n",
       " 'data/alignments/s1/lwae8n.align',\n",
       " 'data/alignments/s1/lwae9s.align',\n",
       " 'data/alignments/s1/lwaf1a.align',\n",
       " 'data/alignments/s1/lwafzp.align',\n",
       " 'data/alignments/s1/lwal2n.align',\n",
       " 'data/alignments/s1/lwal3s.align',\n",
       " 'data/alignments/s1/lwal4p.align',\n",
       " 'data/alignments/s1/lwal5a.align',\n",
       " 'data/alignments/s1/lwar6n.align',\n",
       " 'data/alignments/s1/lwar7s.align',\n",
       " 'data/alignments/s1/lwar8p.align',\n",
       " 'data/alignments/s1/lwar9a.align',\n",
       " 'data/alignments/s1/lwaz1s.align',\n",
       " 'data/alignments/s1/lwaz2p.align',\n",
       " 'data/alignments/s1/lwaz3a.align',\n",
       " 'data/alignments/s1/lwazzn.align',\n",
       " 'data/alignments/s1/lwbf2n.align',\n",
       " 'data/alignments/s1/lwbf3s.align',\n",
       " 'data/alignments/s1/lwbf4p.align',\n",
       " 'data/alignments/s1/lwbf5a.align',\n",
       " 'data/alignments/s1/lwbl6n.align',\n",
       " 'data/alignments/s1/lwbl7s.align',\n",
       " 'data/alignments/s1/lwbl8p.align',\n",
       " 'data/alignments/s1/lwbl9a.align',\n",
       " 'data/alignments/s1/lwbs1s.align',\n",
       " 'data/alignments/s1/lwbs2p.align',\n",
       " 'data/alignments/s1/lwbs3a.align',\n",
       " 'data/alignments/s1/lwbszn.align',\n",
       " 'data/alignments/s1/lwbz4n.align',\n",
       " 'data/alignments/s1/lwbz5s.align',\n",
       " 'data/alignments/s1/lwbz6p.align',\n",
       " 'data/alignments/s1/lwbz7a.align',\n",
       " 'data/alignments/s1/lwie4n.align',\n",
       " 'data/alignments/s1/lwie5s.align',\n",
       " 'data/alignments/s1/lwie6p.align',\n",
       " 'data/alignments/s1/lwie7a.align',\n",
       " 'data/alignments/s1/lwik8n.align',\n",
       " 'data/alignments/s1/lwik9s.align',\n",
       " 'data/alignments/s1/lwil1a.align',\n",
       " 'data/alignments/s1/lwilzp.align',\n",
       " 'data/alignments/s1/lwir2n.align',\n",
       " 'data/alignments/s1/lwir3s.align',\n",
       " 'data/alignments/s1/lwir4p.align',\n",
       " 'data/alignments/s1/lwir5a.align',\n",
       " 'data/alignments/s1/lwiy6n.align',\n",
       " 'data/alignments/s1/lwiy7s.align',\n",
       " 'data/alignments/s1/lwiy8p.align',\n",
       " 'data/alignments/s1/lwiy9a.align',\n",
       " 'data/alignments/s1/lwwf6n.align',\n",
       " 'data/alignments/s1/lwwf7s.align',\n",
       " 'data/alignments/s1/lwwf8p.align',\n",
       " 'data/alignments/s1/lwwf9a.align',\n",
       " 'data/alignments/s1/lwwm1s.align',\n",
       " 'data/alignments/s1/lwwm2p.align',\n",
       " 'data/alignments/s1/lwwm3a.align',\n",
       " 'data/alignments/s1/lwwmzn.align',\n",
       " 'data/alignments/s1/lwws4n.align',\n",
       " 'data/alignments/s1/lwws5s.align',\n",
       " 'data/alignments/s1/lwws6p.align',\n",
       " 'data/alignments/s1/lwws7a.align',\n",
       " 'data/alignments/s1/lwwz8n.align',\n",
       " 'data/alignments/s1/lwwz9s.align',\n",
       " 'data/alignments/s1/pbac1s.align',\n",
       " 'data/alignments/s1/pbac2p.align',\n",
       " 'data/alignments/s1/pbac3a.align',\n",
       " 'data/alignments/s1/pbaczn.align',\n",
       " 'data/alignments/s1/pbai4n.align',\n",
       " 'data/alignments/s1/pbai5s.align',\n",
       " 'data/alignments/s1/pbai6p.align',\n",
       " 'data/alignments/s1/pbai7a.align',\n",
       " 'data/alignments/s1/pbao8n.align',\n",
       " 'data/alignments/s1/pbao9s.align',\n",
       " 'data/alignments/s1/pbap1a.align',\n",
       " 'data/alignments/s1/pbapzp.align',\n",
       " 'data/alignments/s1/pbav2n.align',\n",
       " 'data/alignments/s1/pbav3s.align',\n",
       " 'data/alignments/s1/pbav4p.align',\n",
       " 'data/alignments/s1/pbav5a.align',\n",
       " 'data/alignments/s1/pbbc4n.align',\n",
       " 'data/alignments/s1/pbbc5s.align',\n",
       " 'data/alignments/s1/pbbc6p.align',\n",
       " 'data/alignments/s1/pbbc7a.align',\n",
       " 'data/alignments/s1/pbbi8n.align',\n",
       " 'data/alignments/s1/pbbi9s.align',\n",
       " 'data/alignments/s1/pbbj1a.align',\n",
       " 'data/alignments/s1/pbbjzp.align',\n",
       " 'data/alignments/s1/pbbp2n.align',\n",
       " 'data/alignments/s1/pbbp3s.align',\n",
       " 'data/alignments/s1/pbbp4p.align',\n",
       " 'data/alignments/s1/pbbp5a.align',\n",
       " 'data/alignments/s1/pbbv6n.align',\n",
       " 'data/alignments/s1/pbbv7s.align',\n",
       " 'data/alignments/s1/pbbv8p.align',\n",
       " 'data/alignments/s1/pbbv9a.align',\n",
       " 'data/alignments/s1/pbib6n.align',\n",
       " 'data/alignments/s1/pbib7s.align',\n",
       " 'data/alignments/s1/pbib8p.align',\n",
       " 'data/alignments/s1/pbib9a.align',\n",
       " 'data/alignments/s1/pbii1s.align',\n",
       " 'data/alignments/s1/pbii2p.align',\n",
       " 'data/alignments/s1/pbii3a.align',\n",
       " 'data/alignments/s1/pbiizn.align',\n",
       " 'data/alignments/s1/pbio4n.align',\n",
       " 'data/alignments/s1/pbio5s.align',\n",
       " 'data/alignments/s1/pbio6p.align',\n",
       " 'data/alignments/s1/pbio7a.align',\n",
       " 'data/alignments/s1/pbiu8n.align',\n",
       " 'data/alignments/s1/pbiu9s.align',\n",
       " 'data/alignments/s1/pbiv1a.align',\n",
       " 'data/alignments/s1/pbivzp.align',\n",
       " 'data/alignments/s1/pbwc8n.align',\n",
       " 'data/alignments/s1/pbwc9s.align',\n",
       " 'data/alignments/s1/pbwd1a.align',\n",
       " 'data/alignments/s1/pbwdzp.align',\n",
       " 'data/alignments/s1/pbwj2n.align',\n",
       " 'data/alignments/s1/pbwj3s.align',\n",
       " 'data/alignments/s1/pbwj4p.align',\n",
       " 'data/alignments/s1/pbwj5a.align',\n",
       " 'data/alignments/s1/pbwp6n.align',\n",
       " 'data/alignments/s1/pbwp7s.align',\n",
       " 'data/alignments/s1/pbwp8p.align',\n",
       " 'data/alignments/s1/pbwp9a.align',\n",
       " 'data/alignments/s1/pbwx1s.align',\n",
       " 'data/alignments/s1/pbwx2p.align',\n",
       " 'data/alignments/s1/pbwx3a.align',\n",
       " 'data/alignments/s1/pbwxzn.align',\n",
       " 'data/alignments/s1/pgad8n.align',\n",
       " 'data/alignments/s1/pgad9s.align',\n",
       " 'data/alignments/s1/pgae1a.align',\n",
       " 'data/alignments/s1/pgaezp.align',\n",
       " 'data/alignments/s1/pgak2n.align',\n",
       " 'data/alignments/s1/pgak3s.align',\n",
       " 'data/alignments/s1/pgak4p.align',\n",
       " 'data/alignments/s1/pgak5a.align',\n",
       " 'data/alignments/s1/pgaq6n.align',\n",
       " 'data/alignments/s1/pgaq7s.align',\n",
       " 'data/alignments/s1/pgaq8p.align',\n",
       " 'data/alignments/s1/pgaq9a.align',\n",
       " 'data/alignments/s1/pgay1s.align',\n",
       " 'data/alignments/s1/pgay2p.align',\n",
       " 'data/alignments/s1/pgay3a.align',\n",
       " 'data/alignments/s1/pgayzn.align',\n",
       " 'data/alignments/s1/pgbe2n.align',\n",
       " 'data/alignments/s1/pgbe3s.align',\n",
       " 'data/alignments/s1/pgbe4p.align',\n",
       " 'data/alignments/s1/pgbe5a.align',\n",
       " 'data/alignments/s1/pgbk6n.align',\n",
       " 'data/alignments/s1/pgbk7s.align',\n",
       " 'data/alignments/s1/pgbk8p.align',\n",
       " 'data/alignments/s1/pgbk9a.align',\n",
       " 'data/alignments/s1/pgbr1s.align',\n",
       " 'data/alignments/s1/pgbr2p.align',\n",
       " 'data/alignments/s1/pgbr3a.align',\n",
       " 'data/alignments/s1/pgbrzn.align',\n",
       " 'data/alignments/s1/pgby4n.align',\n",
       " 'data/alignments/s1/pgby5s.align',\n",
       " 'data/alignments/s1/pgby6p.align',\n",
       " 'data/alignments/s1/pgby7a.align',\n",
       " 'data/alignments/s1/pgid4n.align',\n",
       " 'data/alignments/s1/pgid5s.align',\n",
       " 'data/alignments/s1/pgid6p.align',\n",
       " 'data/alignments/s1/pgid7a.align',\n",
       " 'data/alignments/s1/pgij8n.align',\n",
       " 'data/alignments/s1/pgij9s.align',\n",
       " 'data/alignments/s1/pgik1a.align',\n",
       " 'data/alignments/s1/pgikzp.align',\n",
       " 'data/alignments/s1/pgiq2n.align',\n",
       " 'data/alignments/s1/pgiq3s.align',\n",
       " 'data/alignments/s1/pgiq4p.align',\n",
       " 'data/alignments/s1/pgiq5a.align',\n",
       " 'data/alignments/s1/pgix6n.align',\n",
       " 'data/alignments/s1/pgix7s.align',\n",
       " 'data/alignments/s1/pgix8p.align',\n",
       " 'data/alignments/s1/pgix9a.align',\n",
       " 'data/alignments/s1/pgwe6n.align',\n",
       " 'data/alignments/s1/pgwe7s.align',\n",
       " 'data/alignments/s1/pgwe8p.align',\n",
       " 'data/alignments/s1/pgwe9a.align',\n",
       " 'data/alignments/s1/pgwl1s.align',\n",
       " 'data/alignments/s1/pgwl2p.align',\n",
       " 'data/alignments/s1/pgwl3a.align',\n",
       " 'data/alignments/s1/pgwlzn.align',\n",
       " 'data/alignments/s1/pgwr4n.align',\n",
       " 'data/alignments/s1/pgwr5s.align',\n",
       " 'data/alignments/s1/pgwr6p.align',\n",
       " 'data/alignments/s1/pgwr7a.align',\n",
       " 'data/alignments/s1/pgwy8n.align',\n",
       " 'data/alignments/s1/pgwy9s.align',\n",
       " 'data/alignments/s1/pgwz1a.align',\n",
       " 'data/alignments/s1/pgwzzp.align',\n",
       " 'data/alignments/s1/prac6n.align',\n",
       " 'data/alignments/s1/prac7s.align',\n",
       " 'data/alignments/s1/prac8p.align',\n",
       " 'data/alignments/s1/prac9a.align',\n",
       " 'data/alignments/s1/praj1s.align',\n",
       " 'data/alignments/s1/praj2p.align',\n",
       " 'data/alignments/s1/praj3a.align',\n",
       " 'data/alignments/s1/prajzn.align',\n",
       " 'data/alignments/s1/prap4n.align',\n",
       " 'data/alignments/s1/prap5s.align',\n",
       " 'data/alignments/s1/prap6p.align',\n",
       " 'data/alignments/s1/prap7a.align',\n",
       " 'data/alignments/s1/prav8n.align',\n",
       " 'data/alignments/s1/prav9s.align',\n",
       " 'data/alignments/s1/prax1a.align',\n",
       " 'data/alignments/s1/praxzp.align',\n",
       " 'data/alignments/s1/prbd1s.align',\n",
       " 'data/alignments/s1/prbd2p.align',\n",
       " 'data/alignments/s1/prbd3a.align',\n",
       " 'data/alignments/s1/prbdzn.align',\n",
       " 'data/alignments/s1/prbj4n.align',\n",
       " 'data/alignments/s1/prbj5s.align',\n",
       " 'data/alignments/s1/prbj6p.align',\n",
       " 'data/alignments/s1/prbj7a.align',\n",
       " 'data/alignments/s1/prbp8n.align',\n",
       " 'data/alignments/s1/prbp9s.align',\n",
       " 'data/alignments/s1/prbq1a.align',\n",
       " 'data/alignments/s1/prbqzp.align',\n",
       " 'data/alignments/s1/prbx2n.align',\n",
       " 'data/alignments/s1/prbx3s.align',\n",
       " 'data/alignments/s1/prbx4p.align',\n",
       " 'data/alignments/s1/prbx5a.align',\n",
       " 'data/alignments/s1/pric2n.align',\n",
       " 'data/alignments/s1/pric3s.align',\n",
       " 'data/alignments/s1/pric4p.align',\n",
       " 'data/alignments/s1/pric5a.align',\n",
       " 'data/alignments/s1/prii6n.align',\n",
       " 'data/alignments/s1/prii7s.align',\n",
       " 'data/alignments/s1/prii8p.align',\n",
       " 'data/alignments/s1/prii9a.align',\n",
       " 'data/alignments/s1/prip1s.align',\n",
       " 'data/alignments/s1/prip2p.align',\n",
       " 'data/alignments/s1/prip3a.align',\n",
       " 'data/alignments/s1/pripzn.align',\n",
       " 'data/alignments/s1/priv4n.align',\n",
       " 'data/alignments/s1/priv5s.align',\n",
       " 'data/alignments/s1/priv6p.align',\n",
       " 'data/alignments/s1/priv7a.align',\n",
       " 'data/alignments/s1/prwd4n.align',\n",
       " 'data/alignments/s1/prwd5s.align',\n",
       " 'data/alignments/s1/prwd6p.align',\n",
       " 'data/alignments/s1/prwd7a.align',\n",
       " 'data/alignments/s1/prwj8n.align',\n",
       " 'data/alignments/s1/prwj9s.align',\n",
       " 'data/alignments/s1/prwk1a.align',\n",
       " 'data/alignments/s1/prwkzp.align',\n",
       " 'data/alignments/s1/prwq2n.align',\n",
       " 'data/alignments/s1/prwq3s.align',\n",
       " 'data/alignments/s1/prwq4p.align',\n",
       " 'data/alignments/s1/prwq5a.align',\n",
       " 'data/alignments/s1/prwx6n.align',\n",
       " 'data/alignments/s1/prwx7s.align',\n",
       " 'data/alignments/s1/prwx8p.align',\n",
       " 'data/alignments/s1/prwx9a.align',\n",
       " 'data/alignments/s1/pwad2n.align',\n",
       " 'data/alignments/s1/pwad3s.align',\n",
       " 'data/alignments/s1/pwad4p.align',\n",
       " 'data/alignments/s1/pwad5a.align',\n",
       " 'data/alignments/s1/pwaj6n.align',\n",
       " 'data/alignments/s1/pwaj7s.align',\n",
       " 'data/alignments/s1/pwaj8p.align',\n",
       " 'data/alignments/s1/pwaj9a.align',\n",
       " 'data/alignments/s1/pwaq1s.align',\n",
       " 'data/alignments/s1/pwaq2p.align',\n",
       " 'data/alignments/s1/pwaq3a.align',\n",
       " 'data/alignments/s1/pwaqzn.align',\n",
       " 'data/alignments/s1/pwax4n.align',\n",
       " 'data/alignments/s1/pwax5s.align',\n",
       " 'data/alignments/s1/pwax6p.align',\n",
       " 'data/alignments/s1/pwax7a.align',\n",
       " 'data/alignments/s1/pwbd6n.align',\n",
       " 'data/alignments/s1/pwbd7s.align',\n",
       " 'data/alignments/s1/pwbd8p.align',\n",
       " 'data/alignments/s1/pwbd9a.align',\n",
       " 'data/alignments/s1/pwbk1s.align',\n",
       " 'data/alignments/s1/pwbk2p.align',\n",
       " 'data/alignments/s1/pwbk3a.align',\n",
       " 'data/alignments/s1/pwbkzn.align',\n",
       " 'data/alignments/s1/pwbq4n.align',\n",
       " 'data/alignments/s1/pwbq5s.align',\n",
       " 'data/alignments/s1/pwbq6p.align',\n",
       " 'data/alignments/s1/pwbq7a.align',\n",
       " 'data/alignments/s1/pwbx8n.align',\n",
       " 'data/alignments/s1/pwbx9s.align',\n",
       " 'data/alignments/s1/pwby1a.align',\n",
       " 'data/alignments/s1/pwbyzp.align',\n",
       " 'data/alignments/s1/pwic8n.align',\n",
       " 'data/alignments/s1/pwic9s.align',\n",
       " 'data/alignments/s1/pwid1a.align',\n",
       " 'data/alignments/s1/pwidzp.align',\n",
       " 'data/alignments/s1/pwij2n.align',\n",
       " 'data/alignments/s1/pwij3s.align',\n",
       " 'data/alignments/s1/pwij4p.align',\n",
       " 'data/alignments/s1/pwij5a.align',\n",
       " 'data/alignments/s1/pwip6n.align',\n",
       " 'data/alignments/s1/pwip7s.align',\n",
       " 'data/alignments/s1/pwip8p.align',\n",
       " 'data/alignments/s1/pwip9a.align',\n",
       " 'data/alignments/s1/pwix1s.align',\n",
       " 'data/alignments/s1/pwix2p.align',\n",
       " 'data/alignments/s1/pwix3a.align',\n",
       " 'data/alignments/s1/pwixzn.align',\n",
       " 'data/alignments/s1/pwwe1s.align',\n",
       " 'data/alignments/s1/pwwe2p.align',\n",
       " 'data/alignments/s1/pwwe3a.align',\n",
       " 'data/alignments/s1/pwwezn.align',\n",
       " 'data/alignments/s1/pwwk4n.align',\n",
       " 'data/alignments/s1/pwwk5s.align',\n",
       " 'data/alignments/s1/pwwk6p.align',\n",
       " 'data/alignments/s1/pwwk7a.align',\n",
       " 'data/alignments/s1/pwwq8n.align',\n",
       " 'data/alignments/s1/pwwq9s.align',\n",
       " 'data/alignments/s1/pwwr1a.align',\n",
       " 'data/alignments/s1/pwwrzp.align',\n",
       " 'data/alignments/s1/pwwy2n.align',\n",
       " 'data/alignments/s1/pwwy3s.align',\n",
       " 'data/alignments/s1/pwwy4p.align',\n",
       " 'data/alignments/s1/pwwy5a.align',\n",
       " 'data/alignments/s1/sbaa4n.align',\n",
       " 'data/alignments/s1/sbaa5s.align',\n",
       " 'data/alignments/s1/sbaa6p.align',\n",
       " 'data/alignments/s1/sbaa7a.align',\n",
       " 'data/alignments/s1/sbag8n.align',\n",
       " 'data/alignments/s1/sbag9s.align',\n",
       " 'data/alignments/s1/sbah1a.align',\n",
       " 'data/alignments/s1/sbahzp.align',\n",
       " 'data/alignments/s1/sban2n.align',\n",
       " 'data/alignments/s1/sban3s.align',\n",
       " 'data/alignments/s1/sban4p.align',\n",
       " 'data/alignments/s1/sban5a.align',\n",
       " 'data/alignments/s1/sbat6n.align',\n",
       " 'data/alignments/s1/sbat7s.align',\n",
       " 'data/alignments/s1/sbat8p.align',\n",
       " 'data/alignments/s1/sbat9a.align',\n",
       " 'data/alignments/s1/sbba8n.align',\n",
       " 'data/alignments/s1/sbba9s.align',\n",
       " 'data/alignments/s1/sbbb1a.align',\n",
       " 'data/alignments/s1/sbbbzp.align',\n",
       " 'data/alignments/s1/sbbh2n.align',\n",
       " 'data/alignments/s1/sbbh3s.align',\n",
       " 'data/alignments/s1/sbbh4p.align',\n",
       " 'data/alignments/s1/sbbh5a.align',\n",
       " 'data/alignments/s1/sbbn6n.align',\n",
       " 'data/alignments/s1/sbbn7s.align',\n",
       " 'data/alignments/s1/sbbn8p.align',\n",
       " 'data/alignments/s1/sbbn9a.align',\n",
       " 'data/alignments/s1/sbbu1s.align',\n",
       " 'data/alignments/s1/sbbu2p.align',\n",
       " 'data/alignments/s1/sbbu3a.align',\n",
       " 'data/alignments/s1/sbbuzn.align',\n",
       " 'data/alignments/s1/sbia1s.align',\n",
       " 'data/alignments/s1/sbia2p.align',\n",
       " 'data/alignments/s1/sbia3a.align',\n",
       " 'data/alignments/s1/sbiazn.align',\n",
       " 'data/alignments/s1/sbig4n.align',\n",
       " 'data/alignments/s1/sbig5s.align',\n",
       " 'data/alignments/s1/sbig6p.align',\n",
       " 'data/alignments/s1/sbig7a.align',\n",
       " 'data/alignments/s1/sbim8n.align',\n",
       " 'data/alignments/s1/sbim9s.align',\n",
       " 'data/alignments/s1/sbin1a.align',\n",
       " 'data/alignments/s1/sbinzp.align',\n",
       " 'data/alignments/s1/sbit2n.align',\n",
       " 'data/alignments/s1/sbit3s.align',\n",
       " 'data/alignments/s1/sbit4p.align',\n",
       " 'data/alignments/s1/sbit5a.align',\n",
       " 'data/alignments/s1/sbwb2n.align',\n",
       " 'data/alignments/s1/sbwb3s.align',\n",
       " 'data/alignments/s1/sbwb4p.align',\n",
       " 'data/alignments/s1/sbwb5a.align',\n",
       " 'data/alignments/s1/sbwh6n.align',\n",
       " 'data/alignments/s1/sbwh7s.align',\n",
       " 'data/alignments/s1/sbwh8p.align',\n",
       " 'data/alignments/s1/sbwh9a.align',\n",
       " 'data/alignments/s1/sbwo1s.align',\n",
       " 'data/alignments/s1/sbwo2p.align',\n",
       " 'data/alignments/s1/sbwo3a.align',\n",
       " 'data/alignments/s1/sbwozn.align',\n",
       " 'data/alignments/s1/sbwu4n.align',\n",
       " 'data/alignments/s1/sbwu5s.align',\n",
       " 'data/alignments/s1/sbwu6p.align',\n",
       " 'data/alignments/s1/sbwu7a.align',\n",
       " 'data/alignments/s1/sgac2n.align',\n",
       " 'data/alignments/s1/sgac3s.align',\n",
       " 'data/alignments/s1/sgac4p.align',\n",
       " 'data/alignments/s1/sgac5a.align',\n",
       " 'data/alignments/s1/sgai6n.align',\n",
       " 'data/alignments/s1/sgai7s.align',\n",
       " 'data/alignments/s1/sgai8p.align',\n",
       " 'data/alignments/s1/sgai9a.align',\n",
       " 'data/alignments/s1/sgap1s.align',\n",
       " 'data/alignments/s1/sgap2p.align',\n",
       " 'data/alignments/s1/sgap3a.align',\n",
       " 'data/alignments/s1/sgapzn.align',\n",
       " 'data/alignments/s1/sgav4n.align',\n",
       " 'data/alignments/s1/sgav5s.align',\n",
       " 'data/alignments/s1/sgav6p.align',\n",
       " 'data/alignments/s1/sgav7a.align',\n",
       " 'data/alignments/s1/sgbc6n.align',\n",
       " 'data/alignments/s1/sgbc7s.align',\n",
       " 'data/alignments/s1/sgbc8p.align',\n",
       " 'data/alignments/s1/sgbc9a.align',\n",
       " 'data/alignments/s1/sgbj1s.align',\n",
       " 'data/alignments/s1/sgbj2p.align',\n",
       " 'data/alignments/s1/sgbj3a.align',\n",
       " 'data/alignments/s1/sgbjzn.align',\n",
       " 'data/alignments/s1/sgbp4n.align',\n",
       " 'data/alignments/s1/sgbp5s.align',\n",
       " 'data/alignments/s1/sgbp6p.align',\n",
       " 'data/alignments/s1/sgbp7a.align',\n",
       " 'data/alignments/s1/sgbv8n.align',\n",
       " 'data/alignments/s1/sgbv9s.align',\n",
       " 'data/alignments/s1/sgbx1a.align',\n",
       " 'data/alignments/s1/sgbxzp.align',\n",
       " 'data/alignments/s1/sgib8n.align',\n",
       " 'data/alignments/s1/sgib9s.align',\n",
       " 'data/alignments/s1/sgic1a.align',\n",
       " 'data/alignments/s1/sgiczp.align',\n",
       " 'data/alignments/s1/sgii2n.align',\n",
       " 'data/alignments/s1/sgii3s.align',\n",
       " 'data/alignments/s1/sgii4p.align',\n",
       " 'data/alignments/s1/sgii5a.align',\n",
       " 'data/alignments/s1/sgio6n.align',\n",
       " 'data/alignments/s1/sgio7s.align',\n",
       " 'data/alignments/s1/sgio8p.align',\n",
       " 'data/alignments/s1/sgio9a.align',\n",
       " 'data/alignments/s1/sgiv1s.align',\n",
       " 'data/alignments/s1/sgiv2p.align',\n",
       " 'data/alignments/s1/sgiv3a.align',\n",
       " 'data/alignments/s1/sgivzn.align',\n",
       " 'data/alignments/s1/sgwd1s.align',\n",
       " 'data/alignments/s1/sgwd2p.align',\n",
       " 'data/alignments/s1/sgwd3a.align',\n",
       " 'data/alignments/s1/sgwdzn.align',\n",
       " 'data/alignments/s1/sgwj4n.align',\n",
       " 'data/alignments/s1/sgwj5s.align',\n",
       " 'data/alignments/s1/sgwj6p.align',\n",
       " 'data/alignments/s1/sgwj7a.align',\n",
       " 'data/alignments/s1/sgwp8n.align',\n",
       " 'data/alignments/s1/sgwp9s.align',\n",
       " 'data/alignments/s1/sgwq1a.align',\n",
       " 'data/alignments/s1/sgwqzp.align',\n",
       " 'data/alignments/s1/sgwx2n.align',\n",
       " 'data/alignments/s1/sgwx3s.align',\n",
       " 'data/alignments/s1/sgwx4p.align',\n",
       " 'data/alignments/s1/sgwx5a.align',\n",
       " 'data/alignments/s1/srab1s.align',\n",
       " 'data/alignments/s1/srab2p.align',\n",
       " 'data/alignments/s1/srab3a.align',\n",
       " 'data/alignments/s1/srabzn.align',\n",
       " 'data/alignments/s1/srah4n.align',\n",
       " 'data/alignments/s1/srah5s.align',\n",
       " 'data/alignments/s1/srah6p.align',\n",
       " 'data/alignments/s1/srah7a.align',\n",
       " 'data/alignments/s1/sran8n.align',\n",
       " 'data/alignments/s1/sran9s.align',\n",
       " 'data/alignments/s1/srao1a.align',\n",
       " 'data/alignments/s1/sraozp.align',\n",
       " 'data/alignments/s1/srau2n.align',\n",
       " 'data/alignments/s1/srau3s.align',\n",
       " 'data/alignments/s1/srau4p.align',\n",
       " 'data/alignments/s1/srau5a.align',\n",
       " 'data/alignments/s1/srbb4n.align',\n",
       " 'data/alignments/s1/srbb5s.align',\n",
       " 'data/alignments/s1/srbb6p.align',\n",
       " 'data/alignments/s1/srbb7a.align',\n",
       " 'data/alignments/s1/srbh8n.align',\n",
       " 'data/alignments/s1/srbh9s.align',\n",
       " 'data/alignments/s1/srbi1a.align',\n",
       " 'data/alignments/s1/srbizp.align',\n",
       " 'data/alignments/s1/srbo2n.align',\n",
       " 'data/alignments/s1/srbo3s.align',\n",
       " 'data/alignments/s1/srbo4p.align',\n",
       " 'data/alignments/s1/srbo5a.align',\n",
       " 'data/alignments/s1/srbu6n.align',\n",
       " 'data/alignments/s1/srbu7s.align',\n",
       " 'data/alignments/s1/srbu8p.align',\n",
       " 'data/alignments/s1/srbu9a.align',\n",
       " 'data/alignments/s1/sria6n.align',\n",
       " 'data/alignments/s1/sria7s.align',\n",
       " 'data/alignments/s1/sria8p.align',\n",
       " 'data/alignments/s1/sria9a.align',\n",
       " 'data/alignments/s1/srih1s.align',\n",
       " 'data/alignments/s1/srih2p.align',\n",
       " 'data/alignments/s1/srih3a.align',\n",
       " 'data/alignments/s1/srihzn.align',\n",
       " 'data/alignments/s1/srin4n.align',\n",
       " 'data/alignments/s1/srin5s.align',\n",
       " 'data/alignments/s1/srin6p.align',\n",
       " 'data/alignments/s1/srin7a.align',\n",
       " 'data/alignments/s1/srit8n.align',\n",
       " 'data/alignments/s1/srit9s.align',\n",
       " 'data/alignments/s1/sriu1a.align',\n",
       " 'data/alignments/s1/sriuzp.align',\n",
       " 'data/alignments/s1/srwb8n.align',\n",
       " 'data/alignments/s1/srwb9s.align',\n",
       " 'data/alignments/s1/srwc1a.align',\n",
       " 'data/alignments/s1/srwczp.align',\n",
       " 'data/alignments/s1/srwi2n.align',\n",
       " 'data/alignments/s1/srwi3s.align',\n",
       " 'data/alignments/s1/srwi4p.align',\n",
       " 'data/alignments/s1/srwi5a.align',\n",
       " 'data/alignments/s1/srwo6n.align',\n",
       " 'data/alignments/s1/srwo7s.align',\n",
       " 'data/alignments/s1/srwo8p.align',\n",
       " 'data/alignments/s1/srwo9a.align',\n",
       " 'data/alignments/s1/srwv1s.align',\n",
       " 'data/alignments/s1/srwv2p.align',\n",
       " 'data/alignments/s1/srwv3a.align',\n",
       " 'data/alignments/s1/srwvzn.align',\n",
       " 'data/alignments/s1/swab6n.align',\n",
       " 'data/alignments/s1/swab7s.align',\n",
       " 'data/alignments/s1/swab8p.align',\n",
       " 'data/alignments/s1/swab9a.align',\n",
       " 'data/alignments/s1/swai1s.align',\n",
       " 'data/alignments/s1/swai2p.align',\n",
       " 'data/alignments/s1/swai3a.align',\n",
       " 'data/alignments/s1/swaizn.align',\n",
       " 'data/alignments/s1/swao4n.align',\n",
       " 'data/alignments/s1/swao5s.align',\n",
       " 'data/alignments/s1/swao6p.align',\n",
       " 'data/alignments/s1/swao7a.align',\n",
       " 'data/alignments/s1/swau8n.align',\n",
       " 'data/alignments/s1/swau9s.align',\n",
       " 'data/alignments/s1/swav1a.align',\n",
       " 'data/alignments/s1/swavzp.align',\n",
       " 'data/alignments/s1/swbc1s.align',\n",
       " 'data/alignments/s1/swbc2p.align',\n",
       " 'data/alignments/s1/swbc3a.align',\n",
       " 'data/alignments/s1/swbczn.align',\n",
       " 'data/alignments/s1/swbi4n.align',\n",
       " 'data/alignments/s1/swbi5s.align',\n",
       " 'data/alignments/s1/swbi6p.align',\n",
       " 'data/alignments/s1/swbi7a.align',\n",
       " 'data/alignments/s1/swbo8n.align',\n",
       " 'data/alignments/s1/swbo9s.align',\n",
       " 'data/alignments/s1/swbp1a.align',\n",
       " 'data/alignments/s1/swbpzp.align',\n",
       " 'data/alignments/s1/swbv2n.align',\n",
       " 'data/alignments/s1/swbv3s.align',\n",
       " 'data/alignments/s1/swbv4p.align',\n",
       " 'data/alignments/s1/swbv5a.align',\n",
       " 'data/alignments/s1/swib2n.align',\n",
       " 'data/alignments/s1/swib3s.align',\n",
       " 'data/alignments/s1/swib4p.align',\n",
       " 'data/alignments/s1/swib5a.align',\n",
       " 'data/alignments/s1/swih6n.align',\n",
       " 'data/alignments/s1/swih7s.align',\n",
       " 'data/alignments/s1/swih8p.align',\n",
       " 'data/alignments/s1/swih9a.align',\n",
       " 'data/alignments/s1/swio1s.align',\n",
       " 'data/alignments/s1/swio2p.align',\n",
       " 'data/alignments/s1/swio3a.align',\n",
       " 'data/alignments/s1/swiozn.align',\n",
       " 'data/alignments/s1/swiu4n.align',\n",
       " 'data/alignments/s1/swiu5s.align',\n",
       " 'data/alignments/s1/swiu6p.align',\n",
       " 'data/alignments/s1/swiu7a.align',\n",
       " 'data/alignments/s1/swwc4n.align',\n",
       " 'data/alignments/s1/swwc5s.align',\n",
       " 'data/alignments/s1/swwc6p.align',\n",
       " 'data/alignments/s1/swwc7a.align',\n",
       " 'data/alignments/s1/swwi8n.align',\n",
       " 'data/alignments/s1/swwi9s.align',\n",
       " 'data/alignments/s1/swwj1a.align',\n",
       " 'data/alignments/s1/swwjzp.align',\n",
       " 'data/alignments/s1/swwp2n.align',\n",
       " 'data/alignments/s1/swwp3s.align',\n",
       " 'data/alignments/s1/swwp4p.align',\n",
       " 'data/alignments/s1/swwp5a.align',\n",
       " 'data/alignments/s1/swwv6n.align',\n",
       " ...]"
      ]
     },
     "execution_count": 11,
     "metadata": {},
     "output_type": "execute_result"
    }
   ],
   "source": [
    "url = 'https://drive.google.com/uc?id=1YlvpDLix3S-U8fd-gqRwPcWXAXm8JwjL'\n",
    "output = 'data.zip'\n",
    "gdown.download(url, output, quiet=False)\n",
    "gdown.extractall('data.zip')"
   ]
  },
  {
   "cell_type": "code",
   "execution_count": 12,
   "id": "c6353020",
   "metadata": {},
   "outputs": [],
   "source": [
    "from tensorflow import keras"
   ]
  },
  {
   "cell_type": "code",
   "execution_count": 13,
   "id": "8548cc59-6dfc-4acc-abc3-3e65212db02e",
   "metadata": {
    "tags": []
   },
   "outputs": [],
   "source": [
    "def load_video(path:str) -> List[float]: \n",
    "\n",
    "    cap = cv2.VideoCapture(path)\n",
    "    frames = []\n",
    "    for _ in range(int(cap.get(cv2.CAP_PROP_FRAME_COUNT))): \n",
    "        ret, frame = cap.read()\n",
    "        frame = tf.image.rgb_to_grayscale(frame)\n",
    "        frames.append(frame[190:236,80:220,:])\n",
    "    cap.release()\n",
    "    \n",
    "    mean = tf.math.reduce_mean(frames)\n",
    "    std = tf.math.reduce_std(tf.cast(frames, tf.float32))\n",
    "    return tf.cast((frames - mean), tf.float32) / std"
   ]
  },
  {
   "cell_type": "code",
   "execution_count": 14,
   "id": "ec735e0b-ec98-4eb0-8f49-c35527d6670a",
   "metadata": {
    "tags": []
   },
   "outputs": [],
   "source": [
    "vocab = [x for x in \"abcdefghijklmnopqrstuvwxyz'?!123456789 \"]"
   ]
  },
  {
   "cell_type": "code",
   "execution_count": 15,
   "id": "be04e972-d7a5-4a72-82d8-a6bdde1f3ce6",
   "metadata": {
    "tags": []
   },
   "outputs": [
    {
     "name": "stdout",
     "output_type": "stream",
     "text": [
      "The vocabulary is: ['', 'a', 'b', 'c', 'd', 'e', 'f', 'g', 'h', 'i', 'j', 'k', 'l', 'm', 'n', 'o', 'p', 'q', 'r', 's', 't', 'u', 'v', 'w', 'x', 'y', 'z', \"'\", '?', '!', '1', '2', '3', '4', '5', '6', '7', '8', '9', ' '] (size =40)\n"
     ]
    }
   ],
   "source": [
    "char_to_num = tf.keras.layers.StringLookup(vocabulary=vocab, oov_token=\"\")\n",
    "num_to_char = tf.keras.layers.StringLookup(\n",
    "    vocabulary=char_to_num.get_vocabulary(), oov_token=\"\", invert=True\n",
    ")\n",
    "\n",
    "print(\n",
    "    f\"The vocabulary is: {char_to_num.get_vocabulary()} \"\n",
    "    f\"(size ={char_to_num.vocabulary_size()})\"\n",
    ")"
   ]
  },
  {
   "cell_type": "code",
   "execution_count": 16,
   "id": "559f7420-6802-45fa-9ca0-b1ff209b461c",
   "metadata": {
    "tags": []
   },
   "outputs": [
    {
     "data": {
      "text/plain": [
       "['',\n",
       " 'a',\n",
       " 'b',\n",
       " 'c',\n",
       " 'd',\n",
       " 'e',\n",
       " 'f',\n",
       " 'g',\n",
       " 'h',\n",
       " 'i',\n",
       " 'j',\n",
       " 'k',\n",
       " 'l',\n",
       " 'm',\n",
       " 'n',\n",
       " 'o',\n",
       " 'p',\n",
       " 'q',\n",
       " 'r',\n",
       " 's',\n",
       " 't',\n",
       " 'u',\n",
       " 'v',\n",
       " 'w',\n",
       " 'x',\n",
       " 'y',\n",
       " 'z',\n",
       " \"'\",\n",
       " '?',\n",
       " '!',\n",
       " '1',\n",
       " '2',\n",
       " '3',\n",
       " '4',\n",
       " '5',\n",
       " '6',\n",
       " '7',\n",
       " '8',\n",
       " '9',\n",
       " ' ']"
      ]
     },
     "execution_count": 16,
     "metadata": {},
     "output_type": "execute_result"
    }
   ],
   "source": [
    "char_to_num.get_vocabulary()"
   ]
  },
  {
   "cell_type": "code",
   "execution_count": 17,
   "id": "797ff78b-b48f-4e14-bb62-8cd0ebf9501a",
   "metadata": {
    "tags": []
   },
   "outputs": [
    {
     "data": {
      "text/plain": [
       "<tf.Tensor: shape=(4,), dtype=int64, numpy=array([14,  9,  3, 11], dtype=int64)>"
      ]
     },
     "execution_count": 17,
     "metadata": {},
     "output_type": "execute_result"
    }
   ],
   "source": [
    "char_to_num(['n','i','c','k'])"
   ]
  },
  {
   "cell_type": "code",
   "execution_count": 18,
   "id": "8cd7f4f4-ae77-4509-a4f4-c723787ebad1",
   "metadata": {},
   "outputs": [
    {
     "data": {
      "text/plain": [
       "<tf.Tensor: shape=(4,), dtype=string, numpy=array([b'n', b'i', b'c', b'k'], dtype=object)>"
      ]
     },
     "execution_count": 18,
     "metadata": {},
     "output_type": "execute_result"
    }
   ],
   "source": [
    "num_to_char([14,  9,  3, 11])"
   ]
  },
  {
   "cell_type": "code",
   "execution_count": 19,
   "id": "9491bab5-6a3c-4f79-879a-8f9fbe73ae2e",
   "metadata": {
    "tags": []
   },
   "outputs": [],
   "source": [
    "def load_alignments(path:str) -> List[str]: \n",
    "    with open(path, 'r') as f: \n",
    "        lines = f.readlines() \n",
    "    tokens = []\n",
    "    for line in lines:\n",
    "        line = line.split()\n",
    "        if line[2] != 'sil': \n",
    "            tokens = [*tokens,' ',line[2]]\n",
    "    return char_to_num(tf.reshape(tf.strings.unicode_split(tokens, input_encoding='UTF-8'), (-1)))[1:]"
   ]
  },
  {
   "cell_type": "code",
   "execution_count": 20,
   "id": "dd01ca9f-77fb-4643-a2aa-47dd82c5d66b",
   "metadata": {
    "tags": []
   },
   "outputs": [],
   "source": [
    "def load_data(path: str): \n",
    "    path = bytes.decode(path.numpy())\n",
    "    #file_name = path.split('/')[-1].split('.')[0]\n",
    "    # File name splitting for windows\n",
    "    file_name = path.split('\\\\')[-1].split('.')[0]\n",
    "    video_path = os.path.join('data','s1',f'{file_name}.mpg')\n",
    "    alignment_path = os.path.join('data','alignments','s1',f'{file_name}.align')\n",
    "    frames = load_video(video_path) \n",
    "    alignments = load_alignments(alignment_path)\n",
    "    \n",
    "    return frames, alignments"
   ]
  },
  {
   "cell_type": "code",
   "execution_count": 21,
   "id": "8cb7cc58-31ae-4904-a805-1177a82717d2",
   "metadata": {
    "tags": []
   },
   "outputs": [],
   "source": [
    "test_path = '.\\\\data\\\\s1\\\\bbal6n.mpg'"
   ]
  },
  {
   "cell_type": "code",
   "execution_count": 22,
   "id": "76aa964f-0c84-490d-897a-d00e3966e2c9",
   "metadata": {},
   "outputs": [
    {
     "data": {
      "text/plain": [
       "'bbal6n'"
      ]
     },
     "execution_count": 22,
     "metadata": {},
     "output_type": "execute_result"
    }
   ],
   "source": [
    "tf.convert_to_tensor(test_path).numpy().decode('utf-8').split('\\\\')[-1].split('.')[0]"
   ]
  },
  {
   "cell_type": "code",
   "execution_count": 23,
   "id": "eb602c71-8560-4f9e-b26b-08202febb937",
   "metadata": {
    "scrolled": true,
    "tags": []
   },
   "outputs": [],
   "source": [
    "frames, alignments = load_data(tf.convert_to_tensor(test_path))"
   ]
  },
  {
   "cell_type": "code",
   "execution_count": 24,
   "id": "0e3184a1-6b02-4b4f-84a8-a0a65f951ea2",
   "metadata": {},
   "outputs": [
    {
     "data": {
      "text/plain": [
       "<matplotlib.image.AxesImage at 0x1e5ece44100>"
      ]
     },
     "execution_count": 24,
     "metadata": {},
     "output_type": "execute_result"
    },
    {
     "data": {
      "image/png": "[encoded data removed]",
      "text/plain": [
       "<Figure size 640x480 with 1 Axes>"
      ]
     },
     "metadata": {},
     "output_type": "display_data"
    }
   ],
   "source": [
    "plt.imshow(frames[40])"
   ]
  },
  {
   "cell_type": "code",
   "execution_count": 25,
   "id": "d7ec0833-d54b-4073-84cf-92d011c60ec1",
   "metadata": {},
   "outputs": [
    {
     "data": {
      "text/plain": [
       "<tf.Tensor: shape=(21,), dtype=int64, numpy=\n",
       "array([ 2,  9, 14, 39,  2, 12, 21,  5, 39,  1, 20, 39, 12, 39, 19,  9, 24,\n",
       "       39, 14, 15, 23], dtype=int64)>"
      ]
     },
     "execution_count": 25,
     "metadata": {},
     "output_type": "execute_result"
    }
   ],
   "source": [
    "alignments"
   ]
  },
  {
   "cell_type": "code",
   "execution_count": 26,
   "id": "fe1ad370-b287-4b46-85a2-7c45b0bd9b10",
   "metadata": {},
   "outputs": [
    {
     "data": {
      "text/plain": [
       "<tf.Tensor: shape=(), dtype=string, numpy=b'bin blue at l six now'>"
      ]
     },
     "execution_count": 26,
     "metadata": {},
     "output_type": "execute_result"
    }
   ],
   "source": [
    "tf.strings.reduce_join([bytes.decode(x) for x in num_to_char(alignments.numpy()).numpy()])"
   ]
  },
  {
   "cell_type": "code",
   "execution_count": 27,
   "id": "6871031a-b0ba-4c76-a852-f6329b0f2606",
   "metadata": {
    "tags": []
   },
   "outputs": [],
   "source": [
    "def mappable_function(path:str) ->List[str]:\n",
    "    result = tf.py_function(load_data, [path], (tf.float32, tf.int64))\n",
    "    return result"
   ]
  },
  {
   "cell_type": "markdown",
   "id": "c40a7eb4-0c3e-4eab-9291-5611cb68ce08",
   "metadata": {
    "tags": []
   },
   "source": [
    "# 2. Create Data Pipeline"
   ]
  },
  {
   "cell_type": "code",
   "execution_count": 28,
   "id": "7686355d-45aa-4c85-ad9c-053e6a9b4d81",
   "metadata": {
    "tags": []
   },
   "outputs": [],
   "source": [
    "from matplotlib import pyplot as plt"
   ]
  },
  {
   "cell_type": "code",
   "execution_count": 29,
   "id": "f066fea2-91b1-42ed-a67d-00566a1a53ff",
   "metadata": {
    "tags": []
   },
   "outputs": [],
   "source": [
    "data = tf.data.Dataset.list_files('./data/s1/*.mpg')\n",
    "data = data.shuffle(500, reshuffle_each_iteration=False)\n",
    "data = data.map(mappable_function)\n",
    "data = data.padded_batch(2, padded_shapes=([75,None,None,None],[40]))\n",
    "data = data.prefetch(tf.data.AUTOTUNE)\n",
    "# Added for split \n",
    "train = data.take(450)\n",
    "test = data.skip(450)"
   ]
  },
  {
   "cell_type": "code",
   "execution_count": 30,
   "id": "6b1365bd-7742-41d1-95d4-247021751c3a",
   "metadata": {},
   "outputs": [
    {
     "data": {
      "text/plain": [
       "50"
      ]
     },
     "execution_count": 30,
     "metadata": {},
     "output_type": "execute_result"
    }
   ],
   "source": [
    "len(test)"
   ]
  },
  {
   "cell_type": "code",
   "execution_count": 31,
   "id": "5281bde8-fdc8-4da1-bd55-5a7929a9e80c",
   "metadata": {},
   "outputs": [],
   "source": [
    "frames, alignments = data.as_numpy_iterator().next()"
   ]
  },
  {
   "cell_type": "code",
   "execution_count": 32,
   "id": "cbebe683-6afd-47fd-bba4-c83b4b13bb32",
   "metadata": {},
   "outputs": [
    {
     "data": {
      "text/plain": [
       "2"
      ]
     },
     "execution_count": 32,
     "metadata": {},
     "output_type": "execute_result"
    }
   ],
   "source": [
    "len(frames)"
   ]
  },
  {
   "cell_type": "code",
   "execution_count": 33,
   "id": "5cf2d676-93a9-434c-b3c7-bdcc2577b2e7",
   "metadata": {
    "tags": []
   },
   "outputs": [],
   "source": [
    "sample = data.as_numpy_iterator()"
   ]
  },
  {
   "cell_type": "code",
   "execution_count": 34,
   "id": "efa6cd46-7079-46c0-b45b-832f339f6cb0",
   "metadata": {
    "scrolled": true,
    "tags": []
   },
   "outputs": [
    {
     "data": {
      "text/plain": [
       "array([[[[[1.2954502 ],\n",
       "          [1.2954502 ],\n",
       "          [1.3324631 ],\n",
       "          ...,\n",
       "          [0.07402573],\n",
       "          [0.03701286],\n",
       "          [0.03701286]],\n",
       "\n",
       "         [[1.2954502 ],\n",
       "          [1.2954502 ],\n",
       "          [1.3324631 ],\n",
       "          ...,\n",
       "          [0.07402573],\n",
       "          [0.03701286],\n",
       "          [0.03701286]],\n",
       "\n",
       "         [[1.2214246 ],\n",
       "          [1.2214246 ],\n",
       "          [1.2214246 ],\n",
       "          ...,\n",
       "          [0.07402573],\n",
       "          [0.1110386 ],\n",
       "          [0.1110386 ]],\n",
       "\n",
       "         ...,\n",
       "\n",
       "         [[0.88830876],\n",
       "          [0.88830876],\n",
       "          [0.8512959 ],\n",
       "          ...,\n",
       "          [9.290229  ],\n",
       "          [9.253216  ],\n",
       "          [9.253216  ]],\n",
       "\n",
       "         [[0.88830876],\n",
       "          [0.88830876],\n",
       "          [0.8512959 ],\n",
       "          ...,\n",
       "          [9.290229  ],\n",
       "          [9.216203  ],\n",
       "          [9.216203  ]],\n",
       "\n",
       "         [[0.88830876],\n",
       "          [0.88830876],\n",
       "          [0.8512959 ],\n",
       "          ...,\n",
       "          [9.290229  ],\n",
       "          [9.216203  ],\n",
       "          [9.216203  ]]],\n",
       "\n",
       "\n",
       "        [[[1.2954502 ],\n",
       "          [1.2954502 ],\n",
       "          [1.2954502 ],\n",
       "          ...,\n",
       "          [0.1110386 ],\n",
       "          [0.07402573],\n",
       "          [0.07402573]],\n",
       "\n",
       "         [[1.2954502 ],\n",
       "          [1.2954502 ],\n",
       "          [1.2954502 ],\n",
       "          ...,\n",
       "          [0.1110386 ],\n",
       "          [0.07402573],\n",
       "          [0.07402573]],\n",
       "\n",
       "         [[1.2214246 ],\n",
       "          [1.2214246 ],\n",
       "          [1.2214246 ],\n",
       "          ...,\n",
       "          [0.1110386 ],\n",
       "          [0.07402573],\n",
       "          [0.07402573]],\n",
       "\n",
       "         ...,\n",
       "\n",
       "         [[0.9253216 ],\n",
       "          [0.9253216 ],\n",
       "          [0.88830876],\n",
       "          ...,\n",
       "          [9.290229  ],\n",
       "          [9.290229  ],\n",
       "          [9.290229  ]],\n",
       "\n",
       "         [[0.88830876],\n",
       "          [0.88830876],\n",
       "          [0.8512959 ],\n",
       "          ...,\n",
       "          [9.253216  ],\n",
       "          [9.253216  ],\n",
       "          [9.253216  ]],\n",
       "\n",
       "         [[0.88830876],\n",
       "          [0.88830876],\n",
       "          [0.8512959 ],\n",
       "          ...,\n",
       "          [9.253216  ],\n",
       "          [9.253216  ],\n",
       "          [9.253216  ]]],\n",
       "\n",
       "\n",
       "        [[[1.3324631 ],\n",
       "          [1.3324631 ],\n",
       "          [1.2954502 ],\n",
       "          ...,\n",
       "          [0.1110386 ],\n",
       "          [0.03701286],\n",
       "          [0.03701286]],\n",
       "\n",
       "         [[1.3324631 ],\n",
       "          [1.3324631 ],\n",
       "          [1.2954502 ],\n",
       "          ...,\n",
       "          [0.1110386 ],\n",
       "          [0.03701286],\n",
       "          [0.03701286]],\n",
       "\n",
       "         [[1.2214246 ],\n",
       "          [1.2214246 ],\n",
       "          [1.2214246 ],\n",
       "          ...,\n",
       "          [0.1110386 ],\n",
       "          [0.07402573],\n",
       "          [0.07402573]],\n",
       "\n",
       "         ...,\n",
       "\n",
       "         [[0.9253216 ],\n",
       "          [0.9253216 ],\n",
       "          [0.9253216 ],\n",
       "          ...,\n",
       "          [9.253216  ],\n",
       "          [9.253216  ],\n",
       "          [9.253216  ]],\n",
       "\n",
       "         [[0.9253216 ],\n",
       "          [0.9253216 ],\n",
       "          [0.88830876],\n",
       "          ...,\n",
       "          [9.216203  ],\n",
       "          [9.216203  ],\n",
       "          [9.216203  ]],\n",
       "\n",
       "         [[0.9253216 ],\n",
       "          [0.9253216 ],\n",
       "          [0.88830876],\n",
       "          ...,\n",
       "          [9.216203  ],\n",
       "          [9.216203  ],\n",
       "          [9.216203  ]]],\n",
       "\n",
       "\n",
       "        ...,\n",
       "\n",
       "\n",
       "        [[[1.369476  ],\n",
       "          [1.369476  ],\n",
       "          [1.369476  ],\n",
       "          ...,\n",
       "          [0.03701286],\n",
       "          [0.07402573],\n",
       "          [0.07402573]],\n",
       "\n",
       "         [[1.3324631 ],\n",
       "          [1.3324631 ],\n",
       "          [1.3324631 ],\n",
       "          ...,\n",
       "          [0.03701286],\n",
       "          [0.07402573],\n",
       "          [0.07402573]],\n",
       "\n",
       "         [[1.2954502 ],\n",
       "          [1.2954502 ],\n",
       "          [1.2954502 ],\n",
       "          ...,\n",
       "          [0.07402573],\n",
       "          [0.07402573],\n",
       "          [0.07402573]],\n",
       "\n",
       "         ...,\n",
       "\n",
       "         [[0.9253216 ],\n",
       "          [0.9253216 ],\n",
       "          [0.9253216 ],\n",
       "          ...,\n",
       "          [9.253216  ],\n",
       "          [9.216203  ],\n",
       "          [9.216203  ]],\n",
       "\n",
       "         [[0.9253216 ],\n",
       "          [0.9253216 ],\n",
       "          [0.9253216 ],\n",
       "          ...,\n",
       "          [9.290229  ],\n",
       "          [9.216203  ],\n",
       "          [9.216203  ]],\n",
       "\n",
       "         [[0.9253216 ],\n",
       "          [0.9253216 ],\n",
       "          [0.9253216 ],\n",
       "          ...,\n",
       "          [9.290229  ],\n",
       "          [9.216203  ],\n",
       "          [9.216203  ]]],\n",
       "\n",
       "\n",
       "        [[[1.369476  ],\n",
       "          [1.369476  ],\n",
       "          [1.369476  ],\n",
       "          ...,\n",
       "          [0.07402573],\n",
       "          [0.07402573],\n",
       "          [0.07402573]],\n",
       "\n",
       "         [[1.3324631 ],\n",
       "          [1.3324631 ],\n",
       "          [1.3324631 ],\n",
       "          ...,\n",
       "          [0.07402573],\n",
       "          [0.07402573],\n",
       "          [0.07402573]],\n",
       "\n",
       "         [[1.2954502 ],\n",
       "          [1.2954502 ],\n",
       "          [1.2954502 ],\n",
       "          ...,\n",
       "          [0.07402573],\n",
       "          [0.07402573],\n",
       "          [0.07402573]],\n",
       "\n",
       "         ...,\n",
       "\n",
       "         [[0.8512959 ],\n",
       "          [0.8512959 ],\n",
       "          [0.8512959 ],\n",
       "          ...,\n",
       "          [9.253216  ],\n",
       "          [9.216203  ],\n",
       "          [9.216203  ]],\n",
       "\n",
       "         [[0.8512959 ],\n",
       "          [0.8512959 ],\n",
       "          [0.8512959 ],\n",
       "          ...,\n",
       "          [9.290229  ],\n",
       "          [9.216203  ],\n",
       "          [9.216203  ]],\n",
       "\n",
       "         [[0.8512959 ],\n",
       "          [0.8512959 ],\n",
       "          [0.8512959 ],\n",
       "          ...,\n",
       "          [9.290229  ],\n",
       "          [9.216203  ],\n",
       "          [9.216203  ]]],\n",
       "\n",
       "\n",
       "        [[[1.3324631 ],\n",
       "          [1.3324631 ],\n",
       "          [1.369476  ],\n",
       "          ...,\n",
       "          [0.1110386 ],\n",
       "          [0.03701286],\n",
       "          [0.03701286]],\n",
       "\n",
       "         [[1.2954502 ],\n",
       "          [1.2954502 ],\n",
       "          [1.3324631 ],\n",
       "          ...,\n",
       "          [0.1110386 ],\n",
       "          [0.03701286],\n",
       "          [0.03701286]],\n",
       "\n",
       "         [[1.2954502 ],\n",
       "          [1.2954502 ],\n",
       "          [1.2954502 ],\n",
       "          ...,\n",
       "          [0.07402573],\n",
       "          [0.07402573],\n",
       "          [0.07402573]],\n",
       "\n",
       "         ...,\n",
       "\n",
       "         [[0.8512959 ],\n",
       "          [0.8512959 ],\n",
       "          [0.8512959 ],\n",
       "          ...,\n",
       "          [9.253216  ],\n",
       "          [9.216203  ],\n",
       "          [9.216203  ]],\n",
       "\n",
       "         [[0.8512959 ],\n",
       "          [0.8512959 ],\n",
       "          [0.8512959 ],\n",
       "          ...,\n",
       "          [9.253216  ],\n",
       "          [9.216203  ],\n",
       "          [9.216203  ]],\n",
       "\n",
       "         [[0.8512959 ],\n",
       "          [0.8512959 ],\n",
       "          [0.8512959 ],\n",
       "          ...,\n",
       "          [9.253216  ],\n",
       "          [9.216203  ],\n",
       "          [9.216203  ]]]],\n",
       "\n",
       "\n",
       "\n",
       "       [[[[1.10365   ],\n",
       "          [1.2939345 ],\n",
       "          [1.484219  ],\n",
       "          ...,\n",
       "          [0.26639828],\n",
       "          [0.26639828],\n",
       "          [0.26639828]],\n",
       "\n",
       "         [[0.53279656],\n",
       "          [0.9514224 ],\n",
       "          [1.3319913 ],\n",
       "          ...,\n",
       "          [0.26639828],\n",
       "          [0.26639828],\n",
       "          [0.26639828]],\n",
       "\n",
       "         [[0.6089103 ],\n",
       "          [1.10365   ],\n",
       "          [1.2939345 ],\n",
       "          ...,\n",
       "          [0.26639828],\n",
       "          [0.22834137],\n",
       "          [0.22834137]],\n",
       "\n",
       "         ...,\n",
       "\n",
       "         [[1.1417068 ],\n",
       "          [1.1417068 ],\n",
       "          [1.1417068 ],\n",
       "          ...,\n",
       "          [0.07611379],\n",
       "          [0.07611379],\n",
       "          [0.07611379]],\n",
       "\n",
       "         [[1.10365   ],\n",
       "          [1.10365   ],\n",
       "          [1.10365   ],\n",
       "          ...,\n",
       "          [0.07611379],\n",
       "          [0.07611379],\n",
       "          [0.07611379]],\n",
       "\n",
       "         [[1.10365   ],\n",
       "          [1.10365   ],\n",
       "          [1.10365   ],\n",
       "          ...,\n",
       "          [0.07611379],\n",
       "          [0.07611379],\n",
       "          [0.07611379]]],\n",
       "\n",
       "\n",
       "        [[[1.1417068 ],\n",
       "          [1.6364465 ],\n",
       "          [1.4081051 ],\n",
       "          ...,\n",
       "          [0.22834137],\n",
       "          [0.22834137],\n",
       "          [0.22834137]],\n",
       "\n",
       "         [[0.38056895],\n",
       "          [1.0275362 ],\n",
       "          [1.2178206 ],\n",
       "          ...,\n",
       "          [0.22834137],\n",
       "          [0.22834137],\n",
       "          [0.22834137]],\n",
       "\n",
       "         [[0.6089103 ],\n",
       "          [0.9514224 ],\n",
       "          [1.1797638 ],\n",
       "          ...,\n",
       "          [0.22834137],\n",
       "          [0.22834137],\n",
       "          [0.22834137]],\n",
       "\n",
       "         ...,\n",
       "\n",
       "         [[1.10365   ],\n",
       "          [1.10365   ],\n",
       "          [1.10365   ],\n",
       "          ...,\n",
       "          [0.0380569 ],\n",
       "          [0.        ],\n",
       "          [0.        ]],\n",
       "\n",
       "         [[1.0655931 ],\n",
       "          [1.0655931 ],\n",
       "          [1.0655931 ],\n",
       "          ...,\n",
       "          [0.0380569 ],\n",
       "          [0.        ],\n",
       "          [9.666451  ]],\n",
       "\n",
       "         [[1.0655931 ],\n",
       "          [1.0655931 ],\n",
       "          [1.0655931 ],\n",
       "          ...,\n",
       "          [0.0380569 ],\n",
       "          [0.        ],\n",
       "          [9.666451  ]]],\n",
       "\n",
       "\n",
       "        [[[1.10365   ],\n",
       "          [1.5983896 ],\n",
       "          [1.484219  ],\n",
       "          ...,\n",
       "          [0.22834137],\n",
       "          [0.22834137],\n",
       "          [0.22834137]],\n",
       "\n",
       "         [[0.34251207],\n",
       "          [1.0275362 ],\n",
       "          [1.2178206 ],\n",
       "          ...,\n",
       "          [0.22834137],\n",
       "          [0.22834137],\n",
       "          [0.22834137]],\n",
       "\n",
       "         [[0.7991948 ],\n",
       "          [0.9514224 ],\n",
       "          [1.10365   ],\n",
       "          ...,\n",
       "          [0.22834137],\n",
       "          [0.22834137],\n",
       "          [0.22834137]],\n",
       "\n",
       "         ...,\n",
       "\n",
       "         [[1.1417068 ],\n",
       "          [1.1417068 ],\n",
       "          [1.0655931 ],\n",
       "          ...,\n",
       "          [0.0380569 ],\n",
       "          [0.0380569 ],\n",
       "          [0.0380569 ]],\n",
       "\n",
       "         [[1.0655931 ],\n",
       "          [1.0655931 ],\n",
       "          [1.0275362 ],\n",
       "          ...,\n",
       "          [0.0380569 ],\n",
       "          [0.0380569 ],\n",
       "          [0.0380569 ]],\n",
       "\n",
       "         [[1.0655931 ],\n",
       "          [1.0655931 ],\n",
       "          [1.0275362 ],\n",
       "          ...,\n",
       "          [0.0380569 ],\n",
       "          [0.0380569 ],\n",
       "          [0.0380569 ]]],\n",
       "\n",
       "\n",
       "        ...,\n",
       "\n",
       "\n",
       "        [[[0.7991948 ],\n",
       "          [1.1417068 ],\n",
       "          [1.2939345 ],\n",
       "          ...,\n",
       "          [0.22834137],\n",
       "          [0.22834137],\n",
       "          [0.22834137]],\n",
       "\n",
       "         [[0.26639828],\n",
       "          [0.8753086 ],\n",
       "          [1.1797638 ],\n",
       "          ...,\n",
       "          [0.22834137],\n",
       "          [0.22834137],\n",
       "          [0.22834137]],\n",
       "\n",
       "         [[0.9133655 ],\n",
       "          [1.1417068 ],\n",
       "          [1.0655931 ],\n",
       "          ...,\n",
       "          [0.26639828],\n",
       "          [0.26639828],\n",
       "          [0.22834137]],\n",
       "\n",
       "         ...,\n",
       "\n",
       "         [[1.0655931 ],\n",
       "          [1.0655931 ],\n",
       "          [1.0655931 ],\n",
       "          ...,\n",
       "          [0.0380569 ],\n",
       "          [0.0380569 ],\n",
       "          [0.0380569 ]],\n",
       "\n",
       "         [[1.0655931 ],\n",
       "          [1.0655931 ],\n",
       "          [1.0655931 ],\n",
       "          ...,\n",
       "          [0.0380569 ],\n",
       "          [0.0380569 ],\n",
       "          [9.704508  ]],\n",
       "\n",
       "         [[1.0655931 ],\n",
       "          [1.0655931 ],\n",
       "          [1.0655931 ],\n",
       "          ...,\n",
       "          [0.0380569 ],\n",
       "          [9.704508  ],\n",
       "          [9.704508  ]]],\n",
       "\n",
       "\n",
       "        [[[0.8372517 ],\n",
       "          [1.2178206 ],\n",
       "          [1.1797638 ],\n",
       "          ...,\n",
       "          [0.26639828],\n",
       "          [0.22834137],\n",
       "          [0.22834137]],\n",
       "\n",
       "         [[0.30445516],\n",
       "          [0.9514224 ],\n",
       "          [1.1417068 ],\n",
       "          ...,\n",
       "          [0.26639828],\n",
       "          [0.22834137],\n",
       "          [0.22834137]],\n",
       "\n",
       "         [[0.7991948 ],\n",
       "          [1.10365   ],\n",
       "          [1.10365   ],\n",
       "          ...,\n",
       "          [0.34251207],\n",
       "          [0.26639828],\n",
       "          [0.22834137]],\n",
       "\n",
       "         ...,\n",
       "\n",
       "         [[1.0655931 ],\n",
       "          [1.0655931 ],\n",
       "          [1.0655931 ],\n",
       "          ...,\n",
       "          [0.07611379],\n",
       "          [0.07611379],\n",
       "          [0.07611379]],\n",
       "\n",
       "         [[1.0655931 ],\n",
       "          [1.0655931 ],\n",
       "          [1.0275362 ],\n",
       "          ...,\n",
       "          [0.0380569 ],\n",
       "          [0.0380569 ],\n",
       "          [0.0380569 ]],\n",
       "\n",
       "         [[1.0655931 ],\n",
       "          [1.0655931 ],\n",
       "          [1.0275362 ],\n",
       "          ...,\n",
       "          [0.0380569 ],\n",
       "          [0.0380569 ],\n",
       "          [9.704508  ]]],\n",
       "\n",
       "\n",
       "        [[[1.0655931 ],\n",
       "          [1.4081051 ],\n",
       "          [1.2558775 ],\n",
       "          ...,\n",
       "          [0.26639828],\n",
       "          [0.26639828],\n",
       "          [0.22834137]],\n",
       "\n",
       "         [[0.38056895],\n",
       "          [1.10365   ],\n",
       "          [1.1797638 ],\n",
       "          ...,\n",
       "          [0.34251207],\n",
       "          [0.26639828],\n",
       "          [0.22834137]],\n",
       "\n",
       "         [[0.8753086 ],\n",
       "          [0.9894793 ],\n",
       "          [1.0655931 ],\n",
       "          ...,\n",
       "          [0.34251207],\n",
       "          [0.34251207],\n",
       "          [0.26639828]],\n",
       "\n",
       "         ...,\n",
       "\n",
       "         [[1.0655931 ],\n",
       "          [1.0655931 ],\n",
       "          [1.0655931 ],\n",
       "          ...,\n",
       "          [0.07611379],\n",
       "          [0.07611379],\n",
       "          [0.07611379]],\n",
       "\n",
       "         [[1.0655931 ],\n",
       "          [1.0655931 ],\n",
       "          [1.0275362 ],\n",
       "          ...,\n",
       "          [0.0380569 ],\n",
       "          [0.0380569 ],\n",
       "          [0.0380569 ]],\n",
       "\n",
       "         [[1.0655931 ],\n",
       "          [1.0655931 ],\n",
       "          [1.0275362 ],\n",
       "          ...,\n",
       "          [0.0380569 ],\n",
       "          [0.0380569 ],\n",
       "          [9.704508  ]]]]], dtype=float32)"
      ]
     },
     "execution_count": 34,
     "metadata": {},
     "output_type": "execute_result"
    }
   ],
   "source": [
    "val = sample.next(); val[0]"
   ]
  },
  {
   "cell_type": "code",
   "execution_count": 35,
   "id": "acf5eb4f-a0da-4a9a-bf24-af13e9cc2fbe",
   "metadata": {
    "tags": []
   },
   "outputs": [
    {
     "name": "stderr",
     "output_type": "stream",
     "text": [
      "Lossy conversion from float32 to uint8. Range [0.0, 9.43828010559082]. Convert image to uint8 prior to saving to suppress this warning.\n",
      "Lossy conversion from float32 to uint8. Range [0.0, 9.43828010559082]. Convert image to uint8 prior to saving to suppress this warning.\n",
      "Lossy conversion from float32 to uint8. Range [0.0, 9.43828010559082]. Convert image to uint8 prior to saving to suppress this warning.\n",
      "Lossy conversion from float32 to uint8. Range [0.0, 9.43828010559082]. Convert image to uint8 prior to saving to suppress this warning.\n",
      "Lossy conversion from float32 to uint8. Range [0.0, 9.43828010559082]. Convert image to uint8 prior to saving to suppress this warning.\n",
      "Lossy conversion from float32 to uint8. Range [0.0, 9.43828010559082]. Convert image to uint8 prior to saving to suppress this warning.\n",
      "Lossy conversion from float32 to uint8. Range [0.0, 9.43828010559082]. Convert image to uint8 prior to saving to suppress this warning.\n",
      "Lossy conversion from float32 to uint8. Range [0.0, 9.43828010559082]. Convert image to uint8 prior to saving to suppress this warning.\n",
      "Lossy conversion from float32 to uint8. Range [0.0, 9.43828010559082]. Convert image to uint8 prior to saving to suppress this warning.\n",
      "Lossy conversion from float32 to uint8. Range [0.0, 9.43828010559082]. Convert image to uint8 prior to saving to suppress this warning.\n",
      "Lossy conversion from float32 to uint8. Range [0.0, 9.43828010559082]. Convert image to uint8 prior to saving to suppress this warning.\n",
      "Lossy conversion from float32 to uint8. Range [0.0, 9.43828010559082]. Convert image to uint8 prior to saving to suppress this warning.\n",
      "Lossy conversion from float32 to uint8. Range [0.0, 9.43828010559082]. Convert image to uint8 prior to saving to suppress this warning.\n",
      "Lossy conversion from float32 to uint8. Range [0.0, 9.43828010559082]. Convert image to uint8 prior to saving to suppress this warning.\n",
      "Lossy conversion from float32 to uint8. Range [0.0, 9.43828010559082]. Convert image to uint8 prior to saving to suppress this warning.\n",
      "Lossy conversion from float32 to uint8. Range [0.0, 9.43828010559082]. Convert image to uint8 prior to saving to suppress this warning.\n",
      "Lossy conversion from float32 to uint8. Range [0.0, 9.43828010559082]. Convert image to uint8 prior to saving to suppress this warning.\n",
      "Lossy conversion from float32 to uint8. Range [0.0, 9.43828010559082]. Convert image to uint8 prior to saving to suppress this warning.\n",
      "Lossy conversion from float32 to uint8. Range [0.0, 9.43828010559082]. Convert image to uint8 prior to saving to suppress this warning.\n",
      "Lossy conversion from float32 to uint8. Range [0.0, 9.43828010559082]. Convert image to uint8 prior to saving to suppress this warning.\n",
      "Lossy conversion from float32 to uint8. Range [0.0, 9.43828010559082]. Convert image to uint8 prior to saving to suppress this warning.\n",
      "Lossy conversion from float32 to uint8. Range [0.0, 9.43828010559082]. Convert image to uint8 prior to saving to suppress this warning.\n",
      "Lossy conversion from float32 to uint8. Range [0.0, 9.43828010559082]. Convert image to uint8 prior to saving to suppress this warning.\n",
      "Lossy conversion from float32 to uint8. Range [0.0, 9.43828010559082]. Convert image to uint8 prior to saving to suppress this warning.\n",
      "Lossy conversion from float32 to uint8. Range [0.0, 9.43828010559082]. Convert image to uint8 prior to saving to suppress this warning.\n",
      "Lossy conversion from float32 to uint8. Range [0.0, 9.43828010559082]. Convert image to uint8 prior to saving to suppress this warning.\n",
      "Lossy conversion from float32 to uint8. Range [0.0, 9.43828010559082]. Convert image to uint8 prior to saving to suppress this warning.\n",
      "Lossy conversion from float32 to uint8. Range [0.0, 9.43828010559082]. Convert image to uint8 prior to saving to suppress this warning.\n",
      "Lossy conversion from float32 to uint8. Range [0.0, 9.43828010559082]. Convert image to uint8 prior to saving to suppress this warning.\n",
      "Lossy conversion from float32 to uint8. Range [0.0, 9.43828010559082]. Convert image to uint8 prior to saving to suppress this warning.\n",
      "Lossy conversion from float32 to uint8. Range [0.0, 9.43828010559082]. Convert image to uint8 prior to saving to suppress this warning.\n",
      "Lossy conversion from float32 to uint8. Range [0.0, 9.43828010559082]. Convert image to uint8 prior to saving to suppress this warning.\n",
      "Lossy conversion from float32 to uint8. Range [0.0, 9.43828010559082]. Convert image to uint8 prior to saving to suppress this warning.\n",
      "Lossy conversion from float32 to uint8. Range [0.0, 9.43828010559082]. Convert image to uint8 prior to saving to suppress this warning.\n",
      "Lossy conversion from float32 to uint8. Range [0.0, 9.43828010559082]. Convert image to uint8 prior to saving to suppress this warning.\n",
      "Lossy conversion from float32 to uint8. Range [0.0, 9.43828010559082]. Convert image to uint8 prior to saving to suppress this warning.\n",
      "Lossy conversion from float32 to uint8. Range [0.0, 9.43828010559082]. Convert image to uint8 prior to saving to suppress this warning.\n",
      "Lossy conversion from float32 to uint8. Range [0.0, 9.43828010559082]. Convert image to uint8 prior to saving to suppress this warning.\n",
      "Lossy conversion from float32 to uint8. Range [0.0, 9.43828010559082]. Convert image to uint8 prior to saving to suppress this warning.\n",
      "Lossy conversion from float32 to uint8. Range [0.0, 9.43828010559082]. Convert image to uint8 prior to saving to suppress this warning.\n",
      "Lossy conversion from float32 to uint8. Range [0.0, 9.43828010559082]. Convert image to uint8 prior to saving to suppress this warning.\n",
      "Lossy conversion from float32 to uint8. Range [0.0, 9.43828010559082]. Convert image to uint8 prior to saving to suppress this warning.\n",
      "Lossy conversion from float32 to uint8. Range [0.0, 9.43828010559082]. Convert image to uint8 prior to saving to suppress this warning.\n",
      "Lossy conversion from float32 to uint8. Range [0.0, 9.43828010559082]. Convert image to uint8 prior to saving to suppress this warning.\n",
      "Lossy conversion from float32 to uint8. Range [0.0, 9.43828010559082]. Convert image to uint8 prior to saving to suppress this warning.\n",
      "Lossy conversion from float32 to uint8. Range [0.0, 9.43828010559082]. Convert image to uint8 prior to saving to suppress this warning.\n",
      "Lossy conversion from float32 to uint8. Range [0.0, 9.43828010559082]. Convert image to uint8 prior to saving to suppress this warning.\n",
      "Lossy conversion from float32 to uint8. Range [0.0, 9.43828010559082]. Convert image to uint8 prior to saving to suppress this warning.\n",
      "Lossy conversion from float32 to uint8. Range [0.0, 9.43828010559082]. Convert image to uint8 prior to saving to suppress this warning.\n",
      "Lossy conversion from float32 to uint8. Range [0.0, 9.43828010559082]. Convert image to uint8 prior to saving to suppress this warning.\n",
      "Lossy conversion from float32 to uint8. Range [0.0, 9.43828010559082]. Convert image to uint8 prior to saving to suppress this warning.\n",
      "Lossy conversion from float32 to uint8. Range [0.0, 9.43828010559082]. Convert image to uint8 prior to saving to suppress this warning.\n",
      "Lossy conversion from float32 to uint8. Range [0.0, 9.43828010559082]. Convert image to uint8 prior to saving to suppress this warning.\n",
      "Lossy conversion from float32 to uint8. Range [0.0, 9.43828010559082]. Convert image to uint8 prior to saving to suppress this warning.\n",
      "Lossy conversion from float32 to uint8. Range [0.0, 9.43828010559082]. Convert image to uint8 prior to saving to suppress this warning.\n",
      "Lossy conversion from float32 to uint8. Range [0.0, 9.43828010559082]. Convert image to uint8 prior to saving to suppress this warning.\n",
      "Lossy conversion from float32 to uint8. Range [0.0, 9.43828010559082]. Convert image to uint8 prior to saving to suppress this warning.\n",
      "Lossy conversion from float32 to uint8. Range [0.0, 9.43828010559082]. Convert image to uint8 prior to saving to suppress this warning.\n",
      "Lossy conversion from float32 to uint8. Range [0.0, 9.43828010559082]. Convert image to uint8 prior to saving to suppress this warning.\n",
      "Lossy conversion from float32 to uint8. Range [0.0, 9.43828010559082]. Convert image to uint8 prior to saving to suppress this warning.\n",
      "Lossy conversion from float32 to uint8. Range [0.0, 9.43828010559082]. Convert image to uint8 prior to saving to suppress this warning.\n",
      "Lossy conversion from float32 to uint8. Range [0.0, 9.43828010559082]. Convert image to uint8 prior to saving to suppress this warning.\n",
      "Lossy conversion from float32 to uint8. Range [0.0, 9.43828010559082]. Convert image to uint8 prior to saving to suppress this warning.\n",
      "Lossy conversion from float32 to uint8. Range [0.0, 9.43828010559082]. Convert image to uint8 prior to saving to suppress this warning.\n",
      "Lossy conversion from float32 to uint8. Range [0.0, 9.43828010559082]. Convert image to uint8 prior to saving to suppress this warning.\n",
      "Lossy conversion from float32 to uint8. Range [0.0, 9.43828010559082]. Convert image to uint8 prior to saving to suppress this warning.\n",
      "Lossy conversion from float32 to uint8. Range [0.0, 9.43828010559082]. Convert image to uint8 prior to saving to suppress this warning.\n",
      "Lossy conversion from float32 to uint8. Range [0.0, 9.43828010559082]. Convert image to uint8 prior to saving to suppress this warning.\n",
      "Lossy conversion from float32 to uint8. Range [0.0, 9.43828010559082]. Convert image to uint8 prior to saving to suppress this warning.\n",
      "Lossy conversion from float32 to uint8. Range [0.0, 9.43828010559082]. Convert image to uint8 prior to saving to suppress this warning.\n",
      "Lossy conversion from float32 to uint8. Range [0.0, 9.43828010559082]. Convert image to uint8 prior to saving to suppress this warning.\n",
      "Lossy conversion from float32 to uint8. Range [0.0, 9.43828010559082]. Convert image to uint8 prior to saving to suppress this warning.\n",
      "Lossy conversion from float32 to uint8. Range [0.0, 9.43828010559082]. Convert image to uint8 prior to saving to suppress this warning.\n",
      "Lossy conversion from float32 to uint8. Range [0.0, 9.43828010559082]. Convert image to uint8 prior to saving to suppress this warning.\n",
      "Lossy conversion from float32 to uint8. Range [0.0, 9.43828010559082]. Convert image to uint8 prior to saving to suppress this warning.\n"
     ]
    }
   ],
   "source": [
    "imageio.mimsave('./animation.gif', val[0][0], fps=10)"
   ]
  },
  {
   "cell_type": "code",
   "execution_count": 36,
   "id": "c33a87a2-d5e0-4ec9-b174-73ebf41bf03a",
   "metadata": {
    "tags": []
   },
   "outputs": [
    {
     "data": {
      "text/plain": [
       "<matplotlib.image.AxesImage at 0x1e5ecfa8c40>"
      ]
     },
     "execution_count": 36,
     "metadata": {},
     "output_type": "execute_result"
    },
    {
     "data": {
      "image/png": "[encoded data removed]",
      "text/plain": [
       "<Figure size 640x480 with 1 Axes>"
      ]
     },
     "metadata": {},
     "output_type": "display_data"
    }
   ],
   "source": [
    "# 0:videos, 0: 1st video out of the batch,  0: return the first frame in the video \n",
    "plt.imshow(val[0][0][35])"
   ]
  },
  {
   "cell_type": "code",
   "execution_count": 37,
   "id": "84593332-133c-4205-b7a6-8e235d5e2b3b",
   "metadata": {
    "tags": []
   },
   "outputs": [
    {
     "data": {
      "text/plain": [
       "<tf.Tensor: shape=(), dtype=string, numpy=b'set sp blue with b three soon'>"
      ]
     },
     "execution_count": 37,
     "metadata": {},
     "output_type": "execute_result"
    }
   ],
   "source": [
    "tf.strings.reduce_join([num_to_char(word) for word in val[1][0]])"
   ]
  },
  {
   "cell_type": "markdown",
   "id": "0f47733c-83bc-465c-b118-b198b492ad37",
   "metadata": {
    "tags": []
   },
   "source": [
    "# 3. Design the Deep Neural Network"
   ]
  },
  {
   "cell_type": "code",
   "execution_count": 38,
   "id": "d8e9a497-191b-4842-afbd-26f5e13c43ba",
   "metadata": {
    "tags": []
   },
   "outputs": [],
   "source": [
    "from tensorflow.keras.models import Sequential \n",
    "from tensorflow.keras.layers import Conv3D, LSTM, Dense, Dropout, Bidirectional, MaxPool3D, Activation, Reshape, SpatialDropout3D, BatchNormalization, TimeDistributed, Flatten\n",
    "from tensorflow.keras.optimizers import Adam\n",
    "from tensorflow.keras.callbacks import ModelCheckpoint, LearningRateScheduler"
   ]
  },
  {
   "cell_type": "code",
   "execution_count": 39,
   "id": "3f753ed2-70b9-4236-8c1c-08ca065dc8bf",
   "metadata": {},
   "outputs": [
    {
     "data": {
      "text/plain": [
       "(75, 46, 140, 1)"
      ]
     },
     "execution_count": 39,
     "metadata": {},
     "output_type": "execute_result"
    }
   ],
   "source": [
    "data.as_numpy_iterator().next()[0][0].shape"
   ]
  },
  {
   "cell_type": "code",
   "execution_count": 40,
   "id": "f9171056-a352-491a-9ed9-92b28ced268e",
   "metadata": {
    "tags": []
   },
   "outputs": [],
   "source": [
    "model = Sequential()\n",
    "model.add(Conv3D(128, 3, input_shape=(75,46,140,1), padding='same'))\n",
    "model.add(Activation('relu'))\n",
    "model.add(MaxPool3D((1,2,2)))\n",
    "\n",
    "model.add(Conv3D(256, 3, padding='same'))\n",
    "model.add(Activation('relu'))\n",
    "model.add(MaxPool3D((1,2,2)))\n",
    "\n",
    "\n",
    "model.add(Conv3D(75, 3, padding='same'))\n",
    "model.add(Activation('relu'))\n",
    "model.add(MaxPool3D((1,2,2)))\n",
    "\n",
    "model.add(TimeDistributed(Flatten()))\n",
    "\n",
    "model.add(Bidirectional(LSTM(128, kernel_initializer='Orthogonal', return_sequences=True)))\n",
    "model.add(Dropout(.5))\n",
    "\n",
    "model.add(Bidirectional(LSTM(128, kernel_initializer='Orthogonal', return_sequences=True)))\n",
    "model.add(Dropout(.5))\n",
    "\n",
    "model.add(Dense(char_to_num.vocabulary_size()+1, kernel_initializer='he_normal', activation='softmax'))"
   ]
  },
  {
   "cell_type": "code",
   "execution_count": 41,
   "id": "78851825-2bcd-42a9-b7f2-28bb5a6bf43a",
   "metadata": {
    "tags": []
   },
   "outputs": [
    {
     "name": "stdout",
     "output_type": "stream",
     "text": [
      "Model: \"sequential\"\n",
      "_________________________________________________________________\n",
      " Layer (type)                Output Shape              Param #   \n",
      "=================================================================\n",
      " conv3d (Conv3D)             (None, 75, 46, 140, 128)  3584      \n",
      "                                                                 \n",
      " activation (Activation)     (None, 75, 46, 140, 128)  0         \n",
      "                                                                 \n",
      " max_pooling3d (MaxPooling3D  (None, 75, 23, 70, 128)  0         \n",
      " )                                                               \n",
      "                                                                 \n",
      " conv3d_1 (Conv3D)           (None, 75, 23, 70, 256)   884992    \n",
      "                                                                 \n",
      " activation_1 (Activation)   (None, 75, 23, 70, 256)   0         \n",
      "                                                                 \n",
      " max_pooling3d_1 (MaxPooling  (None, 75, 11, 35, 256)  0         \n",
      " 3D)                                                             \n",
      "                                                                 \n",
      " conv3d_2 (Conv3D)           (None, 75, 11, 35, 75)    518475    \n",
      "                                                                 \n",
      " activation_2 (Activation)   (None, 75, 11, 35, 75)    0         \n",
      "                                                                 \n",
      " max_pooling3d_2 (MaxPooling  (None, 75, 5, 17, 75)    0         \n",
      " 3D)                                                             \n",
      "                                                                 \n",
      " time_distributed (TimeDistr  (None, 75, 6375)         0         \n",
      " ibuted)                                                         \n",
      "                                                                 \n",
      " bidirectional (Bidirectiona  (None, 75, 256)          6660096   \n",
      " l)                                                              \n",
      "                                                                 \n",
      " dropout (Dropout)           (None, 75, 256)           0         \n",
      "                                                                 \n",
      " bidirectional_1 (Bidirectio  (None, 75, 256)          394240    \n",
      " nal)                                                            \n",
      "                                                                 \n",
      " dropout_1 (Dropout)         (None, 75, 256)           0         \n",
      "                                                                 \n",
      " dense (Dense)               (None, 75, 41)            10537     \n",
      "                                                                 \n",
      "=================================================================\n",
      "Total params: 8,471,924\n",
      "Trainable params: 8,471,924\n",
      "Non-trainable params: 0\n",
      "_________________________________________________________________\n"
     ]
    }
   ],
   "source": [
    "model.summary()"
   ]
  },
  {
   "cell_type": "code",
   "execution_count": 42,
   "id": "e5c2eae0-c359-41a4-97a0-75c44dccb7d1",
   "metadata": {
    "tags": []
   },
   "outputs": [
    {
     "name": "stdout",
     "output_type": "stream",
     "text": [
      "1/1 [==============================] - 3s 3s/step\n"
     ]
    }
   ],
   "source": [
    "yhat = model.predict(val[0])"
   ]
  },
  {
   "cell_type": "code",
   "execution_count": 43,
   "id": "ffdc7319-0d69-4f7e-a6d4-ce72deb81c0b",
   "metadata": {},
   "outputs": [
    {
     "data": {
      "text/plain": [
       "<tf.Tensor: shape=(), dtype=string, numpy=b' hhhhhhhhhhhhhhhhhhhhhhhhhhhhhhhhhhhhhhhhhhhhhhhhhhhhhhhhhhhhhhhhhhhhhhhhhh'>"
      ]
     },
     "execution_count": 43,
     "metadata": {},
     "output_type": "execute_result"
    }
   ],
   "source": [
    "tf.strings.reduce_join([num_to_char(x) for x in tf.argmax(yhat[0],axis=1)])"
   ]
  },
  {
   "cell_type": "code",
   "execution_count": 44,
   "id": "6ed47531-8317-4255-9a12-b757642258e6",
   "metadata": {
    "tags": []
   },
   "outputs": [
    {
     "data": {
      "text/plain": [
       "<tf.Tensor: shape=(), dtype=string, numpy=b' hhhhhhhhhhhhhhhhhhhhhhhhhhhhhhhhhhhhhhhhhhhhhhhhhhhhhhhhhhhhhhhhhhhhhhhhhh'>"
      ]
     },
     "execution_count": 44,
     "metadata": {},
     "output_type": "execute_result"
    }
   ],
   "source": [
    "tf.strings.reduce_join([num_to_char(tf.argmax(x)) for x in yhat[0]])"
   ]
  },
  {
   "cell_type": "code",
   "execution_count": 45,
   "id": "7c37b9b9-5298-4038-9c33-5031d1b457f0",
   "metadata": {
    "tags": []
   },
   "outputs": [
    {
     "data": {
      "text/plain": [
       "(None, 75, 46, 140, 1)"
      ]
     },
     "execution_count": 45,
     "metadata": {},
     "output_type": "execute_result"
    }
   ],
   "source": [
    "model.input_shape"
   ]
  },
  {
   "cell_type": "code",
   "execution_count": 46,
   "id": "98b316a4-5322-4782-8e36-4b3c1a696d85",
   "metadata": {
    "tags": []
   },
   "outputs": [
    {
     "data": {
      "text/plain": [
       "(None, 75, 41)"
      ]
     },
     "execution_count": 46,
     "metadata": {},
     "output_type": "execute_result"
    }
   ],
   "source": [
    "model.output_shape"
   ]
  },
  {
   "cell_type": "markdown",
   "id": "2ec02176-5c26-46c3-aff7-8352e6563c7d",
   "metadata": {
    "tags": []
   },
   "source": [
    "# 4. Setup Training Options and Train"
   ]
  },
  {
   "cell_type": "code",
   "execution_count": null,
   "id": "6b78072d",
   "metadata": {
    "scrolled": true
   },
   "outputs": [
    {
     "name": "stdout",
     "output_type": "stream",
     "text": [
      "Epoch 1/5\n",
      "110/450 [======>.......................] - ETA: 3:28:30 - loss: 109.6096"
     ]
    }
   ],
   "source": [
    "import os\n",
    "import tensorflow as tf\n",
    "from tensorflow.keras.optimizers import Adam\n",
    "from tensorflow.keras.callbacks import ModelCheckpoint, LearningRateScheduler\n",
    "from matplotlib import pyplot as plt\n",
    "import imageio\n",
    "\n",
    "def scheduler(epoch, lr):\n",
    "    if epoch < 30:\n",
    "        return lr\n",
    "    else:\n",
    "        return lr * tf.math.exp(-0.1)\n",
    "\n",
    "def CTCLoss(y_true, y_pred):\n",
    "    batch_len = tf.cast(tf.shape(y_true)[0], dtype=\"int64\")\n",
    "    input_length = tf.cast(tf.shape(y_pred)[1], dtype=\"int64\")\n",
    "    label_length = tf.cast(tf.shape(y_true)[1], dtype=\"int64\")\n",
    "\n",
    "    input_length = input_length * tf.ones(shape=(batch_len, 1), dtype=\"int64\")\n",
    "    label_length = label_length * tf.ones(shape=(batch_len, 1), dtype=\"int64\")\n",
    "\n",
    "    loss = tf.compat.v1.keras.backend.ctc_batch_cost(y_true, y_pred, input_length, label_length)\n",
    "    return loss\n",
    "\n",
    "class ProduceExample(tf.keras.callbacks.Callback):\n",
    "    def __init__(self, dataset) -> None:\n",
    "        self.dataset = dataset.as_numpy_iterator()\n",
    "\n",
    "    def on_epoch_end(self, epoch, logs=None) -> None:\n",
    "        data = self.dataset.next()\n",
    "        yhat = self.model.predict(data[0])\n",
    "        decoded = tf.compat.v1.keras.backend.ctc_decode(yhat, [75, 75], greedy=False)[0][0].numpy()\n",
    "        for x in range(len(yhat)):\n",
    "            print('Original:', tf.strings.reduce_join(num_to_char(data[1][x])).numpy().decode('utf-8'))\n",
    "            print('Prediction:', tf.strings.reduce_join(num_to_char(decoded[x])).numpy().decode('utf-8'))\n",
    "            print('~' * 100)\n",
    "\n",
    "# Increase batch size\n",
    "batch_size = 64\n",
    "\n",
    "model.compile(optimizer=Adam(learning_rate=0.0001), loss=CTCLoss)\n",
    "checkpoint_callback = ModelCheckpoint(os.path.join('models', 'checkpoint'), monitor='loss', save_weights_only=True, save_best_only=True)\n",
    "schedule_callback = LearningRateScheduler(scheduler)\n",
    "example_callback = ProduceExample(test)\n",
    "model.fit(train, validation_data=test, epochs=5, batch_size=batch_size, callbacks=[checkpoint_callback, schedule_callback, example_callback])\n"
   ]
  },
  {
   "cell_type": "markdown",
   "id": "fa8ee94b-89f7-4733-8a0c-a86f86ff590a",
   "metadata": {
    "tags": []
   },
   "source": [
    "# 5. Make a Prediction "
   ]
  },
  {
   "cell_type": "code",
   "execution_count": 47,
   "id": "01fa7204-ce0e-49a8-8dbd-14fe5dfead40",
   "metadata": {
    "tags": []
   },
   "outputs": [
    {
     "name": "stderr",
     "output_type": "stream",
     "text": [
      "Downloading...\n",
      "From (uriginal): https://drive.google.com/uc?id=1vWscXs4Vt0a_1IH1-ct2TCgXAZT-N3_Y\n",
      "From (redirected): https://drive.google.com/uc?id=1vWscXs4Vt0a_1IH1-ct2TCgXAZT-N3_Y&confirm=t&uuid=b5c7c7b0-d709-4331-b6fc-74b6c289ea24\n",
      "To: C:\\Users\\dell\\Desktop\\ann\\checkpoints.zip\n",
      "100%|██████████| 94.5M/94.5M [00:14<00:00, 6.32MB/s]\n"
     ]
    },
    {
     "data": {
      "text/plain": [
       "['models\\\\checkpoint.index',\n",
       " 'models\\\\__MACOSX/._checkpoint.index',\n",
       " 'models\\\\checkpoint.data-00000-of-00001',\n",
       " 'models\\\\__MACOSX/._checkpoint.data-00000-of-00001',\n",
       " 'models\\\\checkpoint',\n",
       " 'models\\\\__MACOSX/._checkpoint']"
      ]
     },
     "execution_count": 47,
     "metadata": {},
     "output_type": "execute_result"
    }
   ],
   "source": [
    "url = 'https://drive.google.com/uc?id=1vWscXs4Vt0a_1IH1-ct2TCgXAZT-N3_Y'\n",
    "output = 'checkpoints.zip'\n",
    "gdown.download(url, output, quiet=False)\n",
    "gdown.extractall('checkpoints.zip', 'models')"
   ]
  },
  {
   "cell_type": "code",
   "execution_count": 48,
   "id": "247f664d-3c87-4e96-946e-930dad0e1c2c",
   "metadata": {
    "tags": []
   },
   "outputs": [
    {
     "data": {
      "text/plain": [
       "<tensorflow.python.checkpoint.checkpoint.CheckpointLoadStatus at 0x1e5ed129df0>"
      ]
     },
     "execution_count": 48,
     "metadata": {},
     "output_type": "execute_result"
    }
   ],
   "source": [
    "#I am running my saved models here because its taking too much time \n",
    "model.load_weights('models/checkpoint')"
   ]
  },
  {
   "cell_type": "code",
   "execution_count": 49,
   "id": "7f8d689f-b7bb-443c-9b88-e40c1d800828",
   "metadata": {
    "tags": []
   },
   "outputs": [],
   "source": [
    "test_data = test.as_numpy_iterator()"
   ]
  },
  {
   "cell_type": "code",
   "execution_count": 51,
   "id": "38546dc2-bee9-4837-864b-8a884df40ad7",
   "metadata": {
    "tags": []
   },
   "outputs": [],
   "source": [
    "sample = test_data.next()"
   ]
  },
  {
   "cell_type": "code",
   "execution_count": 52,
   "id": "a43621f0-229d-4c0d-9554-9c3a3da9c61a",
   "metadata": {
    "tags": []
   },
   "outputs": [
    {
     "name": "stdout",
     "output_type": "stream",
     "text": [
      "1/1 [==============================] - 3s 3s/step\n"
     ]
    }
   ],
   "source": [
    "yhat = model.predict(sample[0])"
   ]
  },
  {
   "cell_type": "code",
   "execution_count": 53,
   "id": "ea462999-f87e-4a7e-a057-5be7b6d8f7d5",
   "metadata": {
    "tags": []
   },
   "outputs": [
    {
     "name": "stdout",
     "output_type": "stream",
     "text": [
      "~~~~~~~~~~~~~~~~~~~~~~~~~~~~~~~~~~~~~~~~~~~~~~~~~~~~~~~~~~~~~~~~~~~~~~~~~~~~~~~~~~~~~~~~~~~~~~~~~~~~ REAL TEXT\n"
     ]
    },
    {
     "data": {
      "text/plain": [
       "[<tf.Tensor: shape=(), dtype=string, numpy=b'set red in t eight now'>,\n",
       " <tf.Tensor: shape=(), dtype=string, numpy=b'set red with c one again'>]"
      ]
     },
     "execution_count": 53,
     "metadata": {},
     "output_type": "execute_result"
    }
   ],
   "source": [
    "print('~'*100, 'REAL TEXT')\n",
    "[tf.strings.reduce_join([num_to_char(word) for word in sentence]) for sentence in sample[1]]"
   ]
  },
  {
   "cell_type": "code",
   "execution_count": 54,
   "id": "82bd4c10-dd6e-411e-834b-2a3b43fd12c5",
   "metadata": {
    "tags": []
   },
   "outputs": [],
   "source": [
    "decoded = tf.keras.backend.ctc_decode(yhat, input_length=[75,75], greedy=True)[0][0].numpy()"
   ]
  },
  {
   "cell_type": "code",
   "execution_count": 55,
   "id": "5d68ac46-c90b-4eab-a709-f19aee569ff5",
   "metadata": {
    "tags": []
   },
   "outputs": [
    {
     "name": "stdout",
     "output_type": "stream",
     "text": [
      "~~~~~~~~~~~~~~~~~~~~~~~~~~~~~~~~~~~~~~~~~~~~~~~~~~~~~~~~~~~~~~~~~~~~~~~~~~~~~~~~~~~~~~~~~~~~~~~~~~~~ PREDICTIONS\n"
     ]
    },
    {
     "data": {
      "text/plain": [
       "[<tf.Tensor: shape=(), dtype=string, numpy=b'set red in t eight now'>,\n",
       " <tf.Tensor: shape=(), dtype=string, numpy=b'set red with c one again'>]"
      ]
     },
     "execution_count": 55,
     "metadata": {},
     "output_type": "execute_result"
    }
   ],
   "source": [
    "print('~'*100, 'PREDICTIONS')\n",
    "[tf.strings.reduce_join([num_to_char(word) for word in sentence]) for sentence in decoded]"
   ]
  },
  {
   "cell_type": "markdown",
   "id": "64622f98-e99b-4fed-a2cc-f0da82eb5431",
   "metadata": {},
   "source": [
    "# Test on a Video"
   ]
  },
  {
   "cell_type": "code",
   "execution_count": 56,
   "id": "a8b0c4d0-2031-4331-b91d-d87b1ae6f6e2",
   "metadata": {},
   "outputs": [],
   "source": [
    "sample = load_data(tf.convert_to_tensor('.\\\\data\\\\s1\\\\bras9a.mpg'))"
   ]
  },
  {
   "cell_type": "code",
   "execution_count": 57,
   "id": "0cca60e4-47a9-4683-8a75-48f4684f723d",
   "metadata": {},
   "outputs": [
    {
     "name": "stdout",
     "output_type": "stream",
     "text": [
      "~~~~~~~~~~~~~~~~~~~~~~~~~~~~~~~~~~~~~~~~~~~~~~~~~~~~~~~~~~~~~~~~~~~~~~~~~~~~~~~~~~~~~~~~~~~~~~~~~~~~ REAL TEXT\n"
     ]
    },
    {
     "data": {
      "text/plain": [
       "[<tf.Tensor: shape=(), dtype=string, numpy=b'bin red at s nine again'>]"
      ]
     },
     "execution_count": 57,
     "metadata": {},
     "output_type": "execute_result"
    }
   ],
   "source": [
    "print('~'*100, 'REAL TEXT')\n",
    "[tf.strings.reduce_join([num_to_char(word) for word in sentence]) for sentence in [sample[1]]]"
   ]
  },
  {
   "cell_type": "code",
   "execution_count": 58,
   "id": "8cc5037c-1e32-435c-b0cc-01e1fb3b863c",
   "metadata": {},
   "outputs": [
    {
     "name": "stdout",
     "output_type": "stream",
     "text": [
      "1/1 [==============================] - 1s 1s/step\n"
     ]
    }
   ],
   "source": [
    "yhat = model.predict(tf.expand_dims(sample[0], axis=0))"
   ]
  },
  {
   "cell_type": "code",
   "execution_count": 59,
   "id": "22c4f77d-715d-409f-bc5e-3ebe48704e8f",
   "metadata": {},
   "outputs": [],
   "source": [
    "decoded = tf.keras.backend.ctc_decode(yhat, input_length=[75], greedy=True)[0][0].numpy()"
   ]
  },
  {
   "cell_type": "code",
   "execution_count": 60,
   "id": "e4d12ecc-b634-499e-a4bc-db9f010835fb",
   "metadata": {},
   "outputs": [
    {
     "name": "stdout",
     "output_type": "stream",
     "text": [
      "~~~~~~~~~~~~~~~~~~~~~~~~~~~~~~~~~~~~~~~~~~~~~~~~~~~~~~~~~~~~~~~~~~~~~~~~~~~~~~~~~~~~~~~~~~~~~~~~~~~~ PREDICTIONS\n"
     ]
    },
    {
     "data": {
      "text/plain": [
       "[<tf.Tensor: shape=(), dtype=string, numpy=b'bin red at s nine again'>]"
      ]
     },
     "execution_count": 60,
     "metadata": {},
     "output_type": "execute_result"
    }
   ],
   "source": [
    "print('~'*100, 'PREDICTIONS')\n",
    "[tf.strings.reduce_join([num_to_char(word) for word in sentence]) for sentence in decoded]"
   ]
  },
  {
   "cell_type": "code",
   "execution_count": null,
   "id": "3f46d337-9a46-4f9e-9413-a475c501baf6",
   "metadata": {},
   "outputs": [],
   "source": []
  }
 ],
 "metadata": {
  "kernelspec": {
   "display_name": "Python 3 (ipykernel)",
   "language": "python",
   "name": "python3"
  },
  "language_info": {
   "codemirror_mode": {
    "name": "ipython",
    "version": 3
   },
   "file_extension": ".py",
   "mimetype": "text/x-python",
   "name": "python",
   "nbconvert_exporter": "python",
   "pygments_lexer": "ipython3",
   "version": "3.9.13"
  }
 },
 "nbformat": 4,
 "nbformat_minor": 5
}
